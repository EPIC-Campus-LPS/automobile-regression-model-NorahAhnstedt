{
 "cells": [
  {
   "cell_type": "markdown",
   "metadata": {},
   "source": [
    "# Project 2.1: Modeling the Price of Vehicles\n",
    "## Part 2: Exploratory Data Analysis with Automobile Dataset\n",
    "\n",
    "For this dataset, we will try to build a model to determine the price of a vehicle. For this lab, we will complete the data cleaning and exploratory data analysis required to build our model. Cleaning the dataset and identifying features which relate to vehicle price is critical to building a model to answer our question. A future lab will use our findings here to actually create the model. This notebook contains part 2 of this lab and is worth 6 points.\n",
    "\n",
    "**Rubric**\n",
    "- 6 pts - Contains all required components and uses professional language\n",
    "- 5 pts - Contains all required components, but uses unprofessional language, formating, etc.\n",
    "- 4 pts - Contains some, but not all, of the required components\n",
    "- 3 pts - Did not submit\n",
    "\n",
    "**This is the second part of the lab, please complete part 1 first.**"
   ]
  },
  {
   "cell_type": "markdown",
   "metadata": {},
   "source": [
    "## Getting the data \n",
    "Import `pandas` and use `.read_csv()` to create your dataframe from the CSV you just cleaned. Print the first 10 rows to make sure you have the right dataframe. If you are concerned your data has not been cleaned correctly, use `auto_cleaned.csv` provided in the GitHub."
   ]
  },
  {
   "cell_type": "code",
   "execution_count": 243,
   "metadata": {},
   "outputs": [],
   "source": [
    "import pandas as pd \n",
    "import numpy as np\n",
    "df2 = pd.read_csv(\"Automobile_dataset(1)\")"
   ]
  },
  {
   "cell_type": "markdown",
   "metadata": {},
   "source": [
    "## Exploratory Data Analysis\n",
    "\n",
    "The question we want to investigate is:  **What are the main characteristics that have the most impact on the car price?**\n",
    "\n",
    "To do so, let's look at some of our different features. \n",
    "\n",
    "For this lab, we will use the library  `seaborn` in addition to `matplotlib.pyplot` and `numpy`. This will allow use to make plots of the relationship between variables, and see the variability on our plots on the same graph. seaborn is built on matplotlib and the two libraries interact. Typically, we import seaborn as `sns`."
   ]
  },
  {
   "cell_type": "code",
   "execution_count": 244,
   "metadata": {},
   "outputs": [],
   "source": [
    "import matplotlib.pyplot as plt\n",
    "import seaborn as sns\n"
   ]
  },
  {
   "cell_type": "markdown",
   "metadata": {},
   "source": [
    "### How to choose the right visualization method?\n",
    "When visualizing individual variables, it is important to first understand what type of variable you are dealing with. This will help us find the right visualization method for that variable. Remember `.dtypes` from the last notebook."
   ]
  },
  {
   "cell_type": "code",
   "execution_count": 245,
   "metadata": {},
   "outputs": [
    {
     "name": "stdout",
     "output_type": "stream",
     "text": [
      "int64\n",
      "Unnamed: 0\n",
      "int64\n",
      "symboling\n",
      "float64\n",
      "normalized-losses\n",
      "object\n",
      "make\n",
      "object\n",
      "num-of-doors\n",
      "object\n",
      "body-style\n",
      "object\n",
      "drive-wheels\n",
      "object\n",
      "engine-location\n",
      "float64\n",
      "wheel-base\n",
      "float64\n",
      "length\n",
      "float64\n",
      "width\n",
      "float64\n",
      "height\n",
      "float64\n",
      "curb-weight\n",
      "object\n",
      "engine-type\n",
      "object\n",
      "num-of-cylinders\n",
      "float64\n",
      "engine-size\n",
      "object\n",
      "fuel-system\n",
      "float64\n",
      "bore\n",
      "float64\n",
      "stroke\n",
      "float64\n",
      "compression-ratio\n",
      "int64\n",
      "horsepower\n",
      "float64\n",
      "peak-rpm\n",
      "float64\n",
      "city-mpg\n",
      "float64\n",
      "highway-mpg\n",
      "float64\n",
      "price\n",
      "float64\n",
      "city-L/100km\n",
      "float64\n",
      "highway-L/100km\n",
      "object\n",
      "horsepower-binned\n",
      "int64\n",
      "fuel-type-gas\n",
      "int64\n",
      "fuel-type-diesel\n",
      "int64\n",
      "aspiration-turbo\n",
      "int64\n",
      "aspiration-std\n"
     ]
    }
   ],
   "source": [
    "for column in df2.columns: \n",
    "    print(df2[column].dtype)\n",
    "    print(column)"
   ]
  },
  {
   "cell_type": "markdown",
   "metadata": {},
   "source": [
    "We can calculate the correlation between variables  of type \"int64\" or \"float64\" using the pandas method `.corr()`. *This should automatically ignore non-numeric columns, but if it doesn't you can create a dataframe of only numeric columns with `df.select_dtypes(include=['int', 'float'])`*"
   ]
  },
  {
   "cell_type": "code",
   "execution_count": 246,
   "metadata": {},
   "outputs": [
    {
     "data": {
      "text/plain": [
       "Unnamed: 0          -0.118787\n",
       "symboling           -0.083327\n",
       "normalized-losses    0.133999\n",
       "wheel-base           0.589147\n",
       "length               0.691044\n",
       "width                0.752795\n",
       "height               0.137284\n",
       "curb-weight          0.834420\n",
       "engine-size          0.872337\n",
       "bore                 0.543431\n",
       "stroke               0.083296\n",
       "compression-ratio    0.071176\n",
       "horsepower           0.809779\n",
       "peak-rpm            -0.037453\n",
       "city-mpg            -0.687186\n",
       "highway-mpg         -0.705115\n",
       "price                1.000000\n",
       "city-L/100km         0.790291\n",
       "highway-L/100km      0.801313\n",
       "fuel-type-gas       -0.110417\n",
       "fuel-type-diesel     0.110417\n",
       "aspiration-turbo     0.179762\n",
       "aspiration-std      -0.179762\n",
       "Name: price, dtype: float64"
      ]
     },
     "execution_count": 246,
     "metadata": {},
     "output_type": "execute_result"
    }
   ],
   "source": [
    "df_num = df2.select_dtypes(include=['int', 'float'])\n",
    "df_num.corr()['price']"
   ]
  },
  {
   "cell_type": "markdown",
   "metadata": {},
   "source": [
    "The diagonal elements are always one; we will study correlation more precisely Pearson correlation in-depth at the end of the notebook. The basic idea is that a **correlation coefficient** is a numerical measure of the linear relationship between two variables. 1 is the strongest possible positive correlation, -1 is the strongest possible negative correlation, and 0 is no correlation.\n",
    "\n",
    "Find the correlation between the following columns: `bore`, `stroke`, `compression-ratio`, and `horsepower`. *Hint: if you would like to select those columns, use the following syntax: `df[['bore','stroke','compression-ratio','horsepower']]`*"
   ]
  },
  {
   "cell_type": "code",
   "execution_count": 247,
   "metadata": {},
   "outputs": [
    {
     "data": {
      "text/plain": [
       "bore                 0.543431\n",
       "stroke               0.083296\n",
       "compression-ratio    0.071176\n",
       "horsepower           0.809779\n",
       "price                1.000000\n",
       "Name: price, dtype: float64"
      ]
     },
     "execution_count": 247,
     "metadata": {},
     "output_type": "execute_result"
    }
   ],
   "source": [
    "df2[['bore', 'stroke', 'compression-ratio', 'horsepower', 'price']].corr()['price']"
   ]
  },
  {
   "cell_type": "markdown",
   "metadata": {},
   "source": [
    "#### Continuous numerical variables\n",
    "\n",
    "Continuous numerical variables are variables that may contain any value within some range. They can be of type \"int64\" or \"float64\". A great way to visualize these variables is by using scatterplots with fitted lines.\n",
    "\n",
    "In order to start understanding the (linear) relationship between an individual variable and the price, we can use `regplot` which plots the scatterplot plus the fitted regression line for the data. This will be useful later on for visualizing the fit of the simple linear regression model we will build in the next lab as well. \n",
    "\n",
    "Let's see several examples of different linear relationships.\n",
    "\n",
    "\n",
    "**Strong Linear Relationship**\n",
    "Let's make the scatterplot of `engine-size` and `price`. We are going to use seaborn's `regplot()` like this:\n",
    "`sns.regplot(x=\"engine-size\", y=\"price\", data=df)`. Use the `plt` functions we know to start the y axis at 0 and add a title and axis labels."
   ]
  },
  {
   "cell_type": "code",
   "execution_count": 248,
   "metadata": {},
   "outputs": [
    {
     "data": {
      "text/plain": [
       "Text(0.5, 1.0, 'the effect of engine-size on price')"
      ]
     },
     "execution_count": 248,
     "metadata": {},
     "output_type": "execute_result"
    },
    {
     "data": {
      "image/png": "[encoded data removed]",
      "text/plain": [
       "<Figure size 640x480 with 1 Axes>"
      ]
     },
     "metadata": {},
     "output_type": "display_data"
    }
   ],
   "source": [
    "sns.regplot(x='engine-size', y='price', data=df2)\n",
    "plt.title(\"the effect of engine-size on price\")\n"
   ]
  },
  {
   "cell_type": "markdown",
   "metadata": {},
   "source": [
    "As the engine-size goes up, the price goes up: this indicates a **strong positive correlation** between these two variables. Engine size seems like a pretty good predictor of price since the regression line is almost a perfect diagonal line.\n",
    "\n",
    "We can examine the correlation between 'engine-size' and 'price' and see that it's approximately 0.87 with `corr()`."
   ]
  },
  {
   "cell_type": "code",
   "execution_count": 249,
   "metadata": {},
   "outputs": [
    {
     "data": {
      "text/plain": [
       "engine-size    0.872337\n",
       "price          1.000000\n",
       "Name: price, dtype: float64"
      ]
     },
     "execution_count": 249,
     "metadata": {},
     "output_type": "execute_result"
    }
   ],
   "source": [
    "df2[['engine-size', 'price']].corr()['price']"
   ]
  },
  {
   "cell_type": "markdown",
   "metadata": {},
   "source": [
    "Now, let's find the scatterplot of `highway-mpg` and `price`. Make sure start the y axis at 0 and add a title and axis labels."
   ]
  },
  {
   "cell_type": "code",
   "execution_count": 250,
   "metadata": {},
   "outputs": [
    {
     "data": {
      "text/plain": [
       "(0.0, 48173.4306993584)"
      ]
     },
     "execution_count": 250,
     "metadata": {},
     "output_type": "execute_result"
    },
    {
     "data": {
      "image/png": "[encoded data removed]",
      "text/plain": [
       "<Figure size 640x480 with 1 Axes>"
      ]
     },
     "metadata": {},
     "output_type": "display_data"
    }
   ],
   "source": [
    "sns.regplot(x='highway-mpg', y='price', data=df2)\n",
    "plt.title(\"The effect of highway-mpg on price\")\n",
    "plt.ylim(0)\n"
   ]
  },
  {
   "cell_type": "markdown",
   "metadata": {},
   "source": [
    "As highway-mpg goes up, the price goes down. This indicates an **strong inverse/negative correlation** between these two variables. Highway MPG could potentially be a predictor of price.\n",
    "\n",
    "Now, look at the numerical correlation between \"highway-mpg\" and \"price\"."
   ]
  },
  {
   "cell_type": "code",
   "execution_count": 251,
   "metadata": {},
   "outputs": [
    {
     "data": {
      "text/plain": [
       "highway-mpg   -0.705115\n",
       "price          1.000000\n",
       "Name: price, dtype: float64"
      ]
     },
     "execution_count": 251,
     "metadata": {},
     "output_type": "execute_result"
    }
   ],
   "source": [
    "df2[['highway-mpg', 'price']].corr()['price']"
   ]
  },
  {
   "cell_type": "markdown",
   "metadata": {},
   "source": [
    "**Weak Linear Relationship**\n",
    "Let's see if \"peak-rpm\" is a predictor variable of \"price\" by making a plot.\n"
   ]
  },
  {
   "cell_type": "code",
   "execution_count": 252,
   "metadata": {},
   "outputs": [
    {
     "data": {
      "text/plain": [
       "(0.0, 47414.1)"
      ]
     },
     "execution_count": 252,
     "metadata": {},
     "output_type": "execute_result"
    },
    {
     "data": {
      "image/png": "[encoded data removed]",
      "text/plain": [
       "<Figure size 640x480 with 1 Axes>"
      ]
     },
     "metadata": {},
     "output_type": "display_data"
    }
   ],
   "source": [
    "sns.regplot(x='peak-rpm', y='price', data=df2)\n",
    "plt.title(\"The effect of peak-rpm on price\")\n",
    "plt.ylim(0)\n"
   ]
  },
  {
   "cell_type": "markdown",
   "metadata": {},
   "source": [
    "Peak RPM does not seem like a good predictor of the price at all since the regression line is close to horizontal. Also, the data points are very scattered and far from the fitted line, showing lots of variability. Therefore, it's not a reliable variable.\n",
    "\n",
    "Let's look at the numerical correlation between the variables."
   ]
  },
  {
   "cell_type": "code",
   "execution_count": 253,
   "metadata": {},
   "outputs": [
    {
     "data": {
      "text/plain": [
       "peak-rpm   -0.037453\n",
       "price       1.000000\n",
       "Name: price, dtype: float64"
      ]
     },
     "execution_count": 253,
     "metadata": {},
     "output_type": "execute_result"
    }
   ],
   "source": [
    "df2[['peak-rpm','price']].corr()['price']"
   ]
  },
  {
   "cell_type": "markdown",
   "metadata": {},
   "source": [
    "Let's find the numerical correlation between x=\"stroke\" and y=\"price\"."
   ]
  },
  {
   "cell_type": "code",
   "execution_count": 254,
   "metadata": {},
   "outputs": [
    {
     "data": {
      "text/plain": [
       "stroke    0.083296\n",
       "price     1.000000\n",
       "Name: price, dtype: float64"
      ]
     },
     "execution_count": 254,
     "metadata": {},
     "output_type": "execute_result"
    }
   ],
   "source": [
    "df2[['stroke', 'price']].corr()['price']"
   ]
  },
  {
   "cell_type": "markdown",
   "metadata": {},
   "source": [
    "Given the correlation results between \"price\" and \"stroke\", do we expect a linear relationship?\n",
    "We verify your results using the function `regplot()`."
   ]
  },
  {
   "cell_type": "code",
   "execution_count": 255,
   "metadata": {},
   "outputs": [
    {
     "data": {
      "text/plain": [
       "Text(0, 0.5, 'Price')"
      ]
     },
     "execution_count": 255,
     "metadata": {},
     "output_type": "execute_result"
    },
    {
     "data": {
      "image/png": "[encoded data removed]",
      "text/plain": [
       "<Figure size 640x480 with 1 Axes>"
      ]
     },
     "metadata": {},
     "output_type": "display_data"
    }
   ],
   "source": [
    "sns.regplot(x='stroke', y='price', data=df2)\n",
    "plt.title(\"The Effect of Stroke on Price\")\n",
    "plt.xlabel(\"Stroke\")\n",
    "plt.ylabel(\"Price\")"
   ]
  },
  {
   "cell_type": "markdown",
   "metadata": {},
   "source": [
    "#### Categorical variables\n",
    "\n",
    "These are variables that describe a 'characteristic' of a data unit, and are selected from a small group of categories. The categorical variables can have the type \"object\" or \"int64\". A good way to visualize categorical variables is by using boxplots.\n",
    "\n",
    "We are going to use seaborn's `boxplot()` like this: `sns.boxplot(x=..., y=..., data=df)`."
   ]
  },
  {
   "cell_type": "markdown",
   "metadata": {},
   "source": [
    "Let's look at the relationship between \"body-style\" and \"price\".\n"
   ]
  },
  {
   "cell_type": "code",
   "execution_count": 256,
   "metadata": {},
   "outputs": [
    {
     "data": {
      "text/plain": [
       "<AxesSubplot: xlabel='body-style', ylabel='price'>"
      ]
     },
     "execution_count": 256,
     "metadata": {},
     "output_type": "execute_result"
    },
    {
     "data": {
      "image/png": "[encoded data removed]",
      "text/plain": [
       "<Figure size 640x480 with 1 Axes>"
      ]
     },
     "metadata": {},
     "output_type": "display_data"
    }
   ],
   "source": [
    "sns.boxplot(x='body-style', y='price', data=df2)"
   ]
  },
  {
   "cell_type": "markdown",
   "metadata": {},
   "source": [
    "We see that the distributions of price between the different body-style categories have a significant overlap, so body-style would not be a good predictor of price. \n",
    "\n",
    "\n",
    "What about another column? Let's examine engine \"engine-location\" and \"price\" with another boxplot."
   ]
  },
  {
   "cell_type": "code",
   "execution_count": 257,
   "metadata": {},
   "outputs": [
    {
     "data": {
      "text/plain": [
       "<AxesSubplot: xlabel='engine-location', ylabel='price'>"
      ]
     },
     "execution_count": 257,
     "metadata": {},
     "output_type": "execute_result"
    },
    {
     "data": {
      "image/png": "[encoded data removed]",
      "text/plain": [
       "<Figure size 640x480 with 1 Axes>"
      ]
     },
     "metadata": {},
     "output_type": "display_data"
    }
   ],
   "source": [
    "sns.boxplot(x='engine-location', y='price', data=df2)"
   ]
  },
  {
   "cell_type": "markdown",
   "metadata": {},
   "source": [
    "Here we see that the distribution of price between these two engine-location categories, front and rear, are distinct enough to take engine-location as a potential good predictor of price.\n",
    "\n",
    "Let's do the same for \"drive-wheels\" and \"price\".\n"
   ]
  },
  {
   "cell_type": "code",
   "execution_count": 258,
   "metadata": {},
   "outputs": [
    {
     "data": {
      "text/plain": [
       "<AxesSubplot: xlabel='drive-wheels', ylabel='price'>"
      ]
     },
     "execution_count": 258,
     "metadata": {},
     "output_type": "execute_result"
    },
    {
     "data": {
      "image/png": "[encoded data removed]",
      "text/plain": [
       "<Figure size 640x480 with 1 Axes>"
      ]
     },
     "metadata": {},
     "output_type": "display_data"
    }
   ],
   "source": [
    "sns.boxplot(x='drive-wheels', y='price', data=df2)"
   ]
  },
  {
   "cell_type": "markdown",
   "metadata": {},
   "source": [
    "#### Descriptive statistical analysis\n",
    "Let's first take a look at the variables by utilizing a description method.\n",
    "\n",
    "The `describe()` function automatically computes basic statistics for all continuous variables. Any NaN values are automatically skipped in these statistics.\n",
    "\n",
    "This will show:\n",
    "- the count of that variable\n",
    "- the mean\n",
    "- the standard deviation (std)\n",
    "- the minimum value\n",
    "- the IQR (Interquartile Range: 25%, 50% and 75%)\n",
    "- the maximum value\n",
    "\n",
    "Use `describe()` in our dataframe here."
   ]
  },
  {
   "cell_type": "code",
   "execution_count": 259,
   "metadata": {},
   "outputs": [
    {
     "data": {
      "text/html": [
       "<div>\n",
       "<style scoped>\n",
       "    .dataframe tbody tr th:only-of-type {\n",
       "        vertical-align: middle;\n",
       "    }\n",
       "\n",
       "    .dataframe tbody tr th {\n",
       "        vertical-align: top;\n",
       "    }\n",
       "\n",
       "    .dataframe thead th {\n",
       "        text-align: right;\n",
       "    }\n",
       "</style>\n",
       "<table border=\"1\" class=\"dataframe\">\n",
       "  <thead>\n",
       "    <tr style=\"text-align: right;\">\n",
       "      <th></th>\n",
       "      <th>Unnamed: 0</th>\n",
       "      <th>symboling</th>\n",
       "      <th>normalized-losses</th>\n",
       "      <th>wheel-base</th>\n",
       "      <th>length</th>\n",
       "      <th>width</th>\n",
       "      <th>height</th>\n",
       "      <th>curb-weight</th>\n",
       "      <th>engine-size</th>\n",
       "      <th>bore</th>\n",
       "      <th>...</th>\n",
       "      <th>peak-rpm</th>\n",
       "      <th>city-mpg</th>\n",
       "      <th>highway-mpg</th>\n",
       "      <th>price</th>\n",
       "      <th>city-L/100km</th>\n",
       "      <th>highway-L/100km</th>\n",
       "      <th>fuel-type-gas</th>\n",
       "      <th>fuel-type-diesel</th>\n",
       "      <th>aspiration-turbo</th>\n",
       "      <th>aspiration-std</th>\n",
       "    </tr>\n",
       "  </thead>\n",
       "  <tbody>\n",
       "    <tr>\n",
       "      <th>count</th>\n",
       "      <td>200.000000</td>\n",
       "      <td>200.000000</td>\n",
       "      <td>200.000000</td>\n",
       "      <td>200.000000</td>\n",
       "      <td>200.000000</td>\n",
       "      <td>200.000000</td>\n",
       "      <td>200.000000</td>\n",
       "      <td>200.000000</td>\n",
       "      <td>200.000000</td>\n",
       "      <td>200.000000</td>\n",
       "      <td>...</td>\n",
       "      <td>200.000000</td>\n",
       "      <td>200.000000</td>\n",
       "      <td>200.000000</td>\n",
       "      <td>200.000000</td>\n",
       "      <td>200.000000</td>\n",
       "      <td>200.000000</td>\n",
       "      <td>200.000000</td>\n",
       "      <td>200.000000</td>\n",
       "      <td>200.000000</td>\n",
       "      <td>200.000000</td>\n",
       "    </tr>\n",
       "    <tr>\n",
       "      <th>mean</th>\n",
       "      <td>99.500000</td>\n",
       "      <td>0.830000</td>\n",
       "      <td>122.000000</td>\n",
       "      <td>98.848000</td>\n",
       "      <td>0.837232</td>\n",
       "      <td>0.915250</td>\n",
       "      <td>0.899523</td>\n",
       "      <td>2555.705000</td>\n",
       "      <td>126.860000</td>\n",
       "      <td>3.330000</td>\n",
       "      <td>...</td>\n",
       "      <td>5068.220000</td>\n",
       "      <td>25.200000</td>\n",
       "      <td>30.705000</td>\n",
       "      <td>13205.690000</td>\n",
       "      <td>9.937914</td>\n",
       "      <td>8.041663</td>\n",
       "      <td>0.900000</td>\n",
       "      <td>0.100000</td>\n",
       "      <td>0.180000</td>\n",
       "      <td>0.820000</td>\n",
       "    </tr>\n",
       "    <tr>\n",
       "      <th>std</th>\n",
       "      <td>57.879185</td>\n",
       "      <td>1.248557</td>\n",
       "      <td>32.076542</td>\n",
       "      <td>6.038261</td>\n",
       "      <td>0.059333</td>\n",
       "      <td>0.029207</td>\n",
       "      <td>0.040610</td>\n",
       "      <td>518.594552</td>\n",
       "      <td>41.650501</td>\n",
       "      <td>0.268562</td>\n",
       "      <td>...</td>\n",
       "      <td>691.400786</td>\n",
       "      <td>6.432487</td>\n",
       "      <td>6.827227</td>\n",
       "      <td>7966.982558</td>\n",
       "      <td>2.539415</td>\n",
       "      <td>1.844764</td>\n",
       "      <td>0.300753</td>\n",
       "      <td>0.300753</td>\n",
       "      <td>0.385152</td>\n",
       "      <td>0.385152</td>\n",
       "    </tr>\n",
       "    <tr>\n",
       "      <th>min</th>\n",
       "      <td>0.000000</td>\n",
       "      <td>-2.000000</td>\n",
       "      <td>65.000000</td>\n",
       "      <td>86.600000</td>\n",
       "      <td>0.678039</td>\n",
       "      <td>0.837500</td>\n",
       "      <td>0.799331</td>\n",
       "      <td>1488.000000</td>\n",
       "      <td>61.000000</td>\n",
       "      <td>2.540000</td>\n",
       "      <td>...</td>\n",
       "      <td>122.000000</td>\n",
       "      <td>13.000000</td>\n",
       "      <td>16.000000</td>\n",
       "      <td>5118.000000</td>\n",
       "      <td>4.795918</td>\n",
       "      <td>4.351852</td>\n",
       "      <td>0.000000</td>\n",
       "      <td>0.000000</td>\n",
       "      <td>0.000000</td>\n",
       "      <td>0.000000</td>\n",
       "    </tr>\n",
       "    <tr>\n",
       "      <th>25%</th>\n",
       "      <td>49.750000</td>\n",
       "      <td>0.000000</td>\n",
       "      <td>100.250000</td>\n",
       "      <td>94.500000</td>\n",
       "      <td>0.800937</td>\n",
       "      <td>0.891319</td>\n",
       "      <td>0.869565</td>\n",
       "      <td>2163.000000</td>\n",
       "      <td>97.750000</td>\n",
       "      <td>3.150000</td>\n",
       "      <td>...</td>\n",
       "      <td>4800.000000</td>\n",
       "      <td>19.000000</td>\n",
       "      <td>25.000000</td>\n",
       "      <td>7775.000000</td>\n",
       "      <td>7.833333</td>\n",
       "      <td>6.911765</td>\n",
       "      <td>1.000000</td>\n",
       "      <td>0.000000</td>\n",
       "      <td>0.000000</td>\n",
       "      <td>1.000000</td>\n",
       "    </tr>\n",
       "    <tr>\n",
       "      <th>50%</th>\n",
       "      <td>99.500000</td>\n",
       "      <td>1.000000</td>\n",
       "      <td>122.000000</td>\n",
       "      <td>97.000000</td>\n",
       "      <td>0.832292</td>\n",
       "      <td>0.909722</td>\n",
       "      <td>0.904682</td>\n",
       "      <td>2414.000000</td>\n",
       "      <td>119.500000</td>\n",
       "      <td>3.310000</td>\n",
       "      <td>...</td>\n",
       "      <td>5150.000000</td>\n",
       "      <td>24.000000</td>\n",
       "      <td>30.000000</td>\n",
       "      <td>10270.000000</td>\n",
       "      <td>9.791667</td>\n",
       "      <td>7.833333</td>\n",
       "      <td>1.000000</td>\n",
       "      <td>0.000000</td>\n",
       "      <td>0.000000</td>\n",
       "      <td>1.000000</td>\n",
       "    </tr>\n",
       "    <tr>\n",
       "      <th>75%</th>\n",
       "      <td>149.250000</td>\n",
       "      <td>2.000000</td>\n",
       "      <td>138.250000</td>\n",
       "      <td>102.400000</td>\n",
       "      <td>0.881788</td>\n",
       "      <td>0.926042</td>\n",
       "      <td>0.928512</td>\n",
       "      <td>2928.250000</td>\n",
       "      <td>142.000000</td>\n",
       "      <td>3.582500</td>\n",
       "      <td>...</td>\n",
       "      <td>5500.000000</td>\n",
       "      <td>30.000000</td>\n",
       "      <td>34.000000</td>\n",
       "      <td>16500.750000</td>\n",
       "      <td>12.368421</td>\n",
       "      <td>9.400000</td>\n",
       "      <td>1.000000</td>\n",
       "      <td>0.000000</td>\n",
       "      <td>0.000000</td>\n",
       "      <td>1.000000</td>\n",
       "    </tr>\n",
       "    <tr>\n",
       "      <th>max</th>\n",
       "      <td>199.000000</td>\n",
       "      <td>3.000000</td>\n",
       "      <td>256.000000</td>\n",
       "      <td>120.900000</td>\n",
       "      <td>1.000000</td>\n",
       "      <td>1.000000</td>\n",
       "      <td>1.000000</td>\n",
       "      <td>4066.000000</td>\n",
       "      <td>326.000000</td>\n",
       "      <td>3.940000</td>\n",
       "      <td>...</td>\n",
       "      <td>6600.000000</td>\n",
       "      <td>49.000000</td>\n",
       "      <td>54.000000</td>\n",
       "      <td>45400.000000</td>\n",
       "      <td>18.076923</td>\n",
       "      <td>14.687500</td>\n",
       "      <td>1.000000</td>\n",
       "      <td>1.000000</td>\n",
       "      <td>1.000000</td>\n",
       "      <td>1.000000</td>\n",
       "    </tr>\n",
       "  </tbody>\n",
       "</table>\n",
       "<p>8 rows × 23 columns</p>\n",
       "</div>"
      ],
      "text/plain": [
       "       Unnamed: 0   symboling  normalized-losses  wheel-base      length  \\\n",
       "count  200.000000  200.000000         200.000000  200.000000  200.000000   \n",
       "mean    99.500000    0.830000         122.000000   98.848000    0.837232   \n",
       "std     57.879185    1.248557          32.076542    6.038261    0.059333   \n",
       "min      0.000000   -2.000000          65.000000   86.600000    0.678039   \n",
       "25%     49.750000    0.000000         100.250000   94.500000    0.800937   \n",
       "50%     99.500000    1.000000         122.000000   97.000000    0.832292   \n",
       "75%    149.250000    2.000000         138.250000  102.400000    0.881788   \n",
       "max    199.000000    3.000000         256.000000  120.900000    1.000000   \n",
       "\n",
       "            width      height  curb-weight  engine-size        bore  ...  \\\n",
       "count  200.000000  200.000000   200.000000   200.000000  200.000000  ...   \n",
       "mean     0.915250    0.899523  2555.705000   126.860000    3.330000  ...   \n",
       "std      0.029207    0.040610   518.594552    41.650501    0.268562  ...   \n",
       "min      0.837500    0.799331  1488.000000    61.000000    2.540000  ...   \n",
       "25%      0.891319    0.869565  2163.000000    97.750000    3.150000  ...   \n",
       "50%      0.909722    0.904682  2414.000000   119.500000    3.310000  ...   \n",
       "75%      0.926042    0.928512  2928.250000   142.000000    3.582500  ...   \n",
       "max      1.000000    1.000000  4066.000000   326.000000    3.940000  ...   \n",
       "\n",
       "          peak-rpm    city-mpg  highway-mpg         price  city-L/100km  \\\n",
       "count   200.000000  200.000000   200.000000    200.000000    200.000000   \n",
       "mean   5068.220000   25.200000    30.705000  13205.690000      9.937914   \n",
       "std     691.400786    6.432487     6.827227   7966.982558      2.539415   \n",
       "min     122.000000   13.000000    16.000000   5118.000000      4.795918   \n",
       "25%    4800.000000   19.000000    25.000000   7775.000000      7.833333   \n",
       "50%    5150.000000   24.000000    30.000000  10270.000000      9.791667   \n",
       "75%    5500.000000   30.000000    34.000000  16500.750000     12.368421   \n",
       "max    6600.000000   49.000000    54.000000  45400.000000     18.076923   \n",
       "\n",
       "       highway-L/100km  fuel-type-gas  fuel-type-diesel  aspiration-turbo  \\\n",
       "count       200.000000     200.000000        200.000000        200.000000   \n",
       "mean          8.041663       0.900000          0.100000          0.180000   \n",
       "std           1.844764       0.300753          0.300753          0.385152   \n",
       "min           4.351852       0.000000          0.000000          0.000000   \n",
       "25%           6.911765       1.000000          0.000000          0.000000   \n",
       "50%           7.833333       1.000000          0.000000          0.000000   \n",
       "75%           9.400000       1.000000          0.000000          0.000000   \n",
       "max          14.687500       1.000000          1.000000          1.000000   \n",
       "\n",
       "       aspiration-std  \n",
       "count      200.000000  \n",
       "mean         0.820000  \n",
       "std          0.385152  \n",
       "min          0.000000  \n",
       "25%          1.000000  \n",
       "50%          1.000000  \n",
       "75%          1.000000  \n",
       "max          1.000000  \n",
       "\n",
       "[8 rows x 23 columns]"
      ]
     },
     "execution_count": 259,
     "metadata": {},
     "output_type": "execute_result"
    }
   ],
   "source": [
    "df2.describe()"
   ]
  },
  {
   "cell_type": "markdown",
   "metadata": {},
   "source": [
    "The default setting of `describe()` skips variables of type `object`. We can apply the function on the variables of type `object` by including them specifically with `describe(include=['object'])`."
   ]
  },
  {
   "cell_type": "code",
   "execution_count": 260,
   "metadata": {},
   "outputs": [
    {
     "data": {
      "text/html": [
       "<div>\n",
       "<style scoped>\n",
       "    .dataframe tbody tr th:only-of-type {\n",
       "        vertical-align: middle;\n",
       "    }\n",
       "\n",
       "    .dataframe tbody tr th {\n",
       "        vertical-align: top;\n",
       "    }\n",
       "\n",
       "    .dataframe thead th {\n",
       "        text-align: right;\n",
       "    }\n",
       "</style>\n",
       "<table border=\"1\" class=\"dataframe\">\n",
       "  <thead>\n",
       "    <tr style=\"text-align: right;\">\n",
       "      <th></th>\n",
       "      <th>make</th>\n",
       "      <th>num-of-doors</th>\n",
       "      <th>body-style</th>\n",
       "      <th>drive-wheels</th>\n",
       "      <th>engine-location</th>\n",
       "      <th>engine-type</th>\n",
       "      <th>num-of-cylinders</th>\n",
       "      <th>fuel-system</th>\n",
       "      <th>horsepower-binned</th>\n",
       "    </tr>\n",
       "  </thead>\n",
       "  <tbody>\n",
       "    <tr>\n",
       "      <th>count</th>\n",
       "      <td>200</td>\n",
       "      <td>200</td>\n",
       "      <td>200</td>\n",
       "      <td>200</td>\n",
       "      <td>200</td>\n",
       "      <td>200</td>\n",
       "      <td>200</td>\n",
       "      <td>200</td>\n",
       "      <td>200</td>\n",
       "    </tr>\n",
       "    <tr>\n",
       "      <th>unique</th>\n",
       "      <td>22</td>\n",
       "      <td>2</td>\n",
       "      <td>5</td>\n",
       "      <td>3</td>\n",
       "      <td>2</td>\n",
       "      <td>6</td>\n",
       "      <td>7</td>\n",
       "      <td>8</td>\n",
       "      <td>3</td>\n",
       "    </tr>\n",
       "    <tr>\n",
       "      <th>top</th>\n",
       "      <td>toyota</td>\n",
       "      <td>four</td>\n",
       "      <td>sedan</td>\n",
       "      <td>fwd</td>\n",
       "      <td>front</td>\n",
       "      <td>ohc</td>\n",
       "      <td>four</td>\n",
       "      <td>mpfi</td>\n",
       "      <td>Low</td>\n",
       "    </tr>\n",
       "    <tr>\n",
       "      <th>freq</th>\n",
       "      <td>32</td>\n",
       "      <td>115</td>\n",
       "      <td>94</td>\n",
       "      <td>118</td>\n",
       "      <td>197</td>\n",
       "      <td>145</td>\n",
       "      <td>156</td>\n",
       "      <td>91</td>\n",
       "      <td>152</td>\n",
       "    </tr>\n",
       "  </tbody>\n",
       "</table>\n",
       "</div>"
      ],
      "text/plain": [
       "          make num-of-doors body-style drive-wheels engine-location  \\\n",
       "count      200          200        200          200             200   \n",
       "unique      22            2          5            3               2   \n",
       "top     toyota         four      sedan          fwd           front   \n",
       "freq        32          115         94          118             197   \n",
       "\n",
       "       engine-type num-of-cylinders fuel-system horsepower-binned  \n",
       "count          200              200         200               200  \n",
       "unique           6                7           8                 3  \n",
       "top            ohc             four        mpfi               Low  \n",
       "freq           145              156          91               152  "
      ]
     },
     "execution_count": 260,
     "metadata": {},
     "output_type": "execute_result"
    }
   ],
   "source": [
    "df2.describe(include=['object'])"
   ]
  },
  {
   "cell_type": "markdown",
   "metadata": {},
   "source": [
    "#### Value counts\n",
    "Value counts is a good way of understanding how many units of each characteristic/variable we have. We can apply the `value_counts()` function on the column \"engine-location\". Don’t forget the function `value_counts()` only works on pandas series, not pandas dataframes. As a result, we only include one bracket `df['engine-location']` not two brackets `df[['engine-location']]`."
   ]
  },
  {
   "cell_type": "code",
   "execution_count": 261,
   "metadata": {},
   "outputs": [
    {
     "data": {
      "text/plain": [
       "engine-location\n",
       "front    197\n",
       "rear       3\n",
       "Name: count, dtype: int64"
      ]
     },
     "execution_count": 261,
     "metadata": {},
     "output_type": "execute_result"
    }
   ],
   "source": [
    "df2['engine-location'].value_counts()"
   ]
  },
  {
   "cell_type": "markdown",
   "metadata": {},
   "source": [
    "We can convert the series to a dataframe with the function `.to_frame()`. Create the dataframe \"engine_location_counts\" to store the `value_counts()` of \"engine-location\"."
   ]
  },
  {
   "cell_type": "code",
   "execution_count": 262,
   "metadata": {},
   "outputs": [],
   "source": [
    "engine_loc_counts = df2['engine-location'].value_counts().to_frame()"
   ]
  },
  {
   "cell_type": "markdown",
   "metadata": {},
   "source": [
    "<p>After examining the value counts of the engine location, we see that engine location would not be a good predictor variable for the price. This is because we only have three cars with a rear engine and 198 with an engine in the front, so this result is skewed. Thus, we are not able to draw any conclusions about the engine location.</p>\n"
   ]
  },
  {
   "cell_type": "markdown",
   "metadata": {},
   "source": [
    "#### Basics of grouping\n",
    "\n",
    "The `groupby()` method groups data by different categories. The data is grouped based on one or several variables, and analysis is performed on the individual groups.\n",
    "\n",
    "For example, let's group by the variable \"drive-wheels\". Before we do, see that there are 3 different categories of drive wheels with the function `unique()`."
   ]
  },
  {
   "cell_type": "code",
   "execution_count": 263,
   "metadata": {},
   "outputs": [
    {
     "data": {
      "text/plain": [
       "array(['rwd', 'fwd', '4wd'], dtype=object)"
      ]
     },
     "execution_count": 263,
     "metadata": {},
     "output_type": "execute_result"
    }
   ],
   "source": [
    "df2['drive-wheels'].unique()"
   ]
  },
  {
   "cell_type": "markdown",
   "metadata": {},
   "source": [
    "If we want to know, on average, which type of drive wheel is most valuable, we can group \"drive-wheels\" and then average them.\n",
    "\n",
    "We can select the columns 'drive-wheels' nd 'price', then assign it to the dataframe \"df_1\". Then use the function `groupby()` like this `.groupby(['drive-wheels'],as_index=False)` to group by 'drive-wheels' and save our grouping in the variable `gp`. To get the mean value by group, we can use the function `.mean()` on our groupings."
   ]
  },
  {
   "cell_type": "code",
   "execution_count": 264,
   "metadata": {},
   "outputs": [
    {
     "name": "stdout",
     "output_type": "stream",
     "text": [
      "<pandas.core.groupby.generic.DataFrameGroupBy object at 0x7709cc722300>   drive-wheels         price\n",
      "0          4wd  10241.000000\n",
      "1          fwd   9244.779661\n",
      "2          rwd  19842.243243\n"
     ]
    }
   ],
   "source": [
    "df3 = df2[['drive-wheels', 'price']]\n",
    "gp = df3.groupby(['drive-wheels'],as_index=False)\n",
    "gp_m = gp.mean()\n",
    "print(gp, gp_m)"
   ]
  },
  {
   "cell_type": "markdown",
   "metadata": {},
   "source": [
    "From our data, it seems rear-wheel drive vehicles are, on average, the most expensive, while 4-wheel and front-wheel are approximately the same in price.\n",
    "\n",
    "You can also group by multiple variables. For example, let's group by both 'drive-wheels' and 'body-style'. This groups the dataframe by the unique combination of 'drive-wheels' and 'body-style'. Create the dataframe `df_2` with the three columns we need, group by both 'drive-wheels' and 'body-style', and saving your groupings to `gp2`. Then find the mean of the groupings in `gp2` and save the dataframe to `gp2_m`."
   ]
  },
  {
   "cell_type": "code",
   "execution_count": 265,
   "metadata": {},
   "outputs": [
    {
     "name": "stdout",
     "output_type": "stream",
     "text": [
      "<pandas.core.groupby.generic.DataFrameGroupBy object at 0x7709c7db5d90>    drive-wheels   body-style         price\n",
      "0           4wd    hatchback   7603.000000\n",
      "1           4wd        sedan  12647.333333\n",
      "2           4wd        wagon   9095.750000\n",
      "3           fwd  convertible  11595.000000\n",
      "4           fwd      hardtop   8249.000000\n",
      "5           fwd    hatchback   8396.387755\n",
      "6           fwd        sedan   9811.800000\n",
      "7           fwd        wagon   9997.333333\n",
      "8           rwd  convertible  26563.250000\n",
      "9           rwd      hardtop  24202.714286\n",
      "10          rwd    hatchback  14337.777778\n",
      "11          rwd        sedan  21711.833333\n",
      "12          rwd        wagon  16994.222222\n"
     ]
    }
   ],
   "source": [
    "df4 = df2[['drive-wheels', 'body-style', 'price']]\n",
    "gp2 = df4.groupby(['drive-wheels','body-style'],as_index=False)\n",
    "gp2_m = gp2.mean()\n",
    "print(gp2, gp2_m)"
   ]
  },
  {
   "cell_type": "markdown",
   "metadata": {},
   "source": [
    "This grouped data is much easier to visualize when it is made into a pivot table. A pivot table is like an Excel spreadsheet, with one variable along the column and another along the row. We can convert the dataframe to a pivot table using the method `pivot()` to create a pivot table from the groups.\n",
    "\n",
    "In this case, we will leave the 'drive-wheels' variable as the rows of the table, and pivot 'body-style' to become the columns of the table by using the function `.pivot(index='drive-wheels',columns='body-style')` on our dataframe of means `gp2_m`. Save your pivot table in a dataframe `grouped_pivot`."
   ]
  },
  {
   "cell_type": "code",
   "execution_count": 266,
   "metadata": {},
   "outputs": [
    {
     "name": "stdout",
     "output_type": "stream",
     "text": [
      "                   price                                            \\\n",
      "body-style   convertible       hardtop     hatchback         sedan   \n",
      "drive-wheels                                                         \n",
      "4wd                  NaN           NaN   7603.000000  12647.333333   \n",
      "fwd             11595.00   8249.000000   8396.387755   9811.800000   \n",
      "rwd             26563.25  24202.714286  14337.777778  21711.833333   \n",
      "\n",
      "                            \n",
      "body-style           wagon  \n",
      "drive-wheels                \n",
      "4wd            9095.750000  \n",
      "fwd            9997.333333  \n",
      "rwd           16994.222222  \n"
     ]
    }
   ],
   "source": [
    "grouped_pivot = gp2_m.pivot(index='drive-wheels', columns='body-style')\n",
    "print(grouped_pivot)"
   ]
  },
  {
   "cell_type": "markdown",
   "metadata": {},
   "source": [
    "Often, we won't have data for some of the pivot cells. We can fill these missing cells with the value 0, but any other value could potentially be used as well. We can use the function `.fillna(...)` with the parameter 0 on the pivot table to fill in the values."
   ]
  },
  {
   "cell_type": "code",
   "execution_count": 267,
   "metadata": {},
   "outputs": [
    {
     "data": {
      "text/html": [
       "<div>\n",
       "<style scoped>\n",
       "    .dataframe tbody tr th:only-of-type {\n",
       "        vertical-align: middle;\n",
       "    }\n",
       "\n",
       "    .dataframe tbody tr th {\n",
       "        vertical-align: top;\n",
       "    }\n",
       "\n",
       "    .dataframe thead tr th {\n",
       "        text-align: left;\n",
       "    }\n",
       "\n",
       "    .dataframe thead tr:last-of-type th {\n",
       "        text-align: right;\n",
       "    }\n",
       "</style>\n",
       "<table border=\"1\" class=\"dataframe\">\n",
       "  <thead>\n",
       "    <tr>\n",
       "      <th></th>\n",
       "      <th colspan=\"5\" halign=\"left\">price</th>\n",
       "    </tr>\n",
       "    <tr>\n",
       "      <th>body-style</th>\n",
       "      <th>convertible</th>\n",
       "      <th>hardtop</th>\n",
       "      <th>hatchback</th>\n",
       "      <th>sedan</th>\n",
       "      <th>wagon</th>\n",
       "    </tr>\n",
       "    <tr>\n",
       "      <th>drive-wheels</th>\n",
       "      <th></th>\n",
       "      <th></th>\n",
       "      <th></th>\n",
       "      <th></th>\n",
       "      <th></th>\n",
       "    </tr>\n",
       "  </thead>\n",
       "  <tbody>\n",
       "    <tr>\n",
       "      <th>4wd</th>\n",
       "      <td>0.00</td>\n",
       "      <td>0.000000</td>\n",
       "      <td>7603.000000</td>\n",
       "      <td>12647.333333</td>\n",
       "      <td>9095.750000</td>\n",
       "    </tr>\n",
       "    <tr>\n",
       "      <th>fwd</th>\n",
       "      <td>11595.00</td>\n",
       "      <td>8249.000000</td>\n",
       "      <td>8396.387755</td>\n",
       "      <td>9811.800000</td>\n",
       "      <td>9997.333333</td>\n",
       "    </tr>\n",
       "    <tr>\n",
       "      <th>rwd</th>\n",
       "      <td>26563.25</td>\n",
       "      <td>24202.714286</td>\n",
       "      <td>14337.777778</td>\n",
       "      <td>21711.833333</td>\n",
       "      <td>16994.222222</td>\n",
       "    </tr>\n",
       "  </tbody>\n",
       "</table>\n",
       "</div>"
      ],
      "text/plain": [
       "                   price                                            \\\n",
       "body-style   convertible       hardtop     hatchback         sedan   \n",
       "drive-wheels                                                         \n",
       "4wd                 0.00      0.000000   7603.000000  12647.333333   \n",
       "fwd             11595.00   8249.000000   8396.387755   9811.800000   \n",
       "rwd             26563.25  24202.714286  14337.777778  21711.833333   \n",
       "\n",
       "                            \n",
       "body-style           wagon  \n",
       "drive-wheels                \n",
       "4wd            9095.750000  \n",
       "fwd            9997.333333  \n",
       "rwd           16994.222222  "
      ]
     },
     "execution_count": 267,
     "metadata": {},
     "output_type": "execute_result"
    }
   ],
   "source": [
    "grouped_pivot.fillna(0)"
   ]
  },
  {
   "cell_type": "markdown",
   "metadata": {},
   "source": [
    "**Great!** Now we can see the average price of a vechicle based on its drive-wheels and body-style"
   ]
  },
  {
   "cell_type": "markdown",
   "metadata": {},
   "source": [
    "#### Visualize - Drive Wheels and Body Style vs. Price\n",
    "Let's use a heat map to visualize the relationship between Drive Wheels and Body Style vs Price.\n",
    "\n",
    "The heatmap plots the target variable (price) proportional to colour with respect to the variables 'drive-wheel' and 'body-style' on the vertical and horizontal axis, respectively. This allows us to visualize how the price is related to 'drive-wheel' and 'body-style'.\n",
    "\n",
    "These heatmap plots are cool but can be difficult to set up since the default labels aren't very helpful. So here is some code to make your first heatmap plot.\n",
    "```\n",
    "fig, ax = plt.subplots()\n",
    "im = ax.pcolor(grouped_pivot, cmap='RdBu')\n",
    "\n",
    "#label names\n",
    "row_labels = grouped_pivot.columns.levels[1]\n",
    "col_labels = grouped_pivot.index\n",
    "\n",
    "#move ticks and labels to the center\n",
    "ax.set_xticks(np.arange(grouped_pivot.shape[1]) + 0.5, minor=False)\n",
    "ax.set_yticks(np.arange(grouped_pivot.shape[0]) + 0.5, minor=False)\n",
    "\n",
    "#insert labels\n",
    "ax.set_xticklabels(row_labels, minor=False)\n",
    "ax.set_yticklabels(col_labels, minor=False)\n",
    "\n",
    "#rotate label if too long\n",
    "plt.xticks(rotation=90)\n",
    "\n",
    "fig.colorbar(im)\n",
    "\n",
    "plt.title(\"Heatmap of Vehicle Price by Drive Wheel and Body Style\")\n",
    "plt.xlabel(\"body style\")\n",
    "plt.ylabel(\"drive wheels\")\n",
    "plt.show()\n",
    "```\n",
    "\n"
   ]
  },
  {
   "cell_type": "code",
   "execution_count": 268,
   "metadata": {},
   "outputs": [
    {
     "data": {
      "image/png": "[encoded data removed]",
      "text/plain": [
       "<Figure size 640x480 with 2 Axes>"
      ]
     },
     "metadata": {},
     "output_type": "display_data"
    }
   ],
   "source": [
    "fig, ax = plt.subplots()\n",
    "im = ax.pcolor(grouped_pivot, cmap='RdBu')\n",
    "\n",
    "#label names\n",
    "row_labels = grouped_pivot.columns.levels[1]\n",
    "col_labels = grouped_pivot.index\n",
    "\n",
    "#move ticks and labels to the center\n",
    "ax.set_xticks(np.arange(grouped_pivot.shape[1]) + 0.5, minor=False)\n",
    "ax.set_yticks(np.arange(grouped_pivot.shape[0]) + 0.5, minor=False)\n",
    "\n",
    "#insert labels\n",
    "ax.set_xticklabels(row_labels, minor=False)\n",
    "ax.set_yticklabels(col_labels, minor=False)\n",
    "\n",
    "#rotate label if too long\n",
    "plt.xticks(rotation=90)\n",
    "\n",
    "fig.colorbar(im)\n",
    "\n",
    "plt.title(\"Heatmap of Vehicle Price by Drive Wheel and Body Style\")\n",
    "plt.xlabel(\"body style\")\n",
    "plt.ylabel(\"drive wheels\")\n",
    "plt.show()"
   ]
  },
  {
   "cell_type": "markdown",
   "metadata": {},
   "source": [
    "The main question we want to answer in this lab is, \"What are the main characteristics which have the most impact on the car price?\".\n",
    "\n",
    "To get a better measure of the important characteristics, we look at the correlation of these variables with the car price. In other words: how is the car price dependent on this variable?\n",
    "\n",
    "#### Correlation\n",
    "**Correlation**: a measure of the extent of interdependence between variables.\n",
    "**Causation**: the relationship between cause and effect between two variables.\n",
    "\n",
    "It is important to know the difference between these two. Correlation does not imply causation. Determining correlation is much simpler the determining causation as causation may require independent experimentation.\n",
    "\n",
    "**Pearson Correlation**\n",
    "\n",
    "There are multiple ways to quantify the relationship between two random variables, but the most relevant to us in this course will be the Pearson correlation coefficient. The *Pearson correlation coefficient* measures the linear dependence between two variables X and Y. \n",
    "\n",
    "The resulting coefficient is a value between -1 and 1 inclusive, where:\n",
    "- **1**: Perfect positive linear correlation.\n",
    "- **0**: No linear correlation, the two variables most likely do not affect each other.\n",
    "- **-1**: Perfect negative linear correlation.\n",
    "\n",
    "Pearson Correlation is the default method of the function `corr()`. Like before, we can calculate the Pearson Correlation of the of the 'int64' or 'float64'  variables. \n",
    "\n",
    "Let's run it again here. "
   ]
  },
  {
   "cell_type": "code",
   "execution_count": 269,
   "metadata": {},
   "outputs": [
    {
     "data": {
      "text/html": [
       "<div>\n",
       "<style scoped>\n",
       "    .dataframe tbody tr th:only-of-type {\n",
       "        vertical-align: middle;\n",
       "    }\n",
       "\n",
       "    .dataframe tbody tr th {\n",
       "        vertical-align: top;\n",
       "    }\n",
       "\n",
       "    .dataframe thead th {\n",
       "        text-align: right;\n",
       "    }\n",
       "</style>\n",
       "<table border=\"1\" class=\"dataframe\">\n",
       "  <thead>\n",
       "    <tr style=\"text-align: right;\">\n",
       "      <th></th>\n",
       "      <th>Unnamed: 0</th>\n",
       "      <th>symboling</th>\n",
       "      <th>normalized-losses</th>\n",
       "      <th>wheel-base</th>\n",
       "      <th>length</th>\n",
       "      <th>width</th>\n",
       "      <th>height</th>\n",
       "      <th>curb-weight</th>\n",
       "      <th>engine-size</th>\n",
       "      <th>bore</th>\n",
       "      <th>...</th>\n",
       "      <th>peak-rpm</th>\n",
       "      <th>city-mpg</th>\n",
       "      <th>highway-mpg</th>\n",
       "      <th>price</th>\n",
       "      <th>city-L/100km</th>\n",
       "      <th>highway-L/100km</th>\n",
       "      <th>fuel-type-gas</th>\n",
       "      <th>fuel-type-diesel</th>\n",
       "      <th>aspiration-turbo</th>\n",
       "      <th>aspiration-std</th>\n",
       "    </tr>\n",
       "  </thead>\n",
       "  <tbody>\n",
       "    <tr>\n",
       "      <th>Unnamed: 0</th>\n",
       "      <td>1.000000</td>\n",
       "      <td>-0.150130</td>\n",
       "      <td>-0.242903</td>\n",
       "      <td>0.112632</td>\n",
       "      <td>0.159326</td>\n",
       "      <td>0.036964</td>\n",
       "      <td>0.238730</td>\n",
       "      <td>0.065178</td>\n",
       "      <td>-0.047468</td>\n",
       "      <td>0.251250</td>\n",
       "      <td>...</td>\n",
       "      <td>-0.170817</td>\n",
       "      <td>0.022527</td>\n",
       "      <td>0.015801</td>\n",
       "      <td>-0.118787</td>\n",
       "      <td>-0.095680</td>\n",
       "      <td>-0.075844</td>\n",
       "      <td>-0.119513</td>\n",
       "      <td>0.119513</td>\n",
       "      <td>0.079348</td>\n",
       "      <td>-0.079348</td>\n",
       "    </tr>\n",
       "    <tr>\n",
       "      <th>symboling</th>\n",
       "      <td>-0.150130</td>\n",
       "      <td>1.000000</td>\n",
       "      <td>0.469772</td>\n",
       "      <td>-0.529145</td>\n",
       "      <td>-0.364511</td>\n",
       "      <td>-0.237262</td>\n",
       "      <td>-0.542261</td>\n",
       "      <td>-0.234743</td>\n",
       "      <td>-0.112069</td>\n",
       "      <td>-0.145667</td>\n",
       "      <td>...</td>\n",
       "      <td>0.186972</td>\n",
       "      <td>-0.030158</td>\n",
       "      <td>0.041248</td>\n",
       "      <td>-0.083327</td>\n",
       "      <td>0.062423</td>\n",
       "      <td>-0.033159</td>\n",
       "      <td>0.195381</td>\n",
       "      <td>-0.195381</td>\n",
       "      <td>-0.050995</td>\n",
       "      <td>0.050995</td>\n",
       "    </tr>\n",
       "    <tr>\n",
       "      <th>normalized-losses</th>\n",
       "      <td>-0.242903</td>\n",
       "      <td>0.469772</td>\n",
       "      <td>1.000000</td>\n",
       "      <td>-0.057068</td>\n",
       "      <td>0.019433</td>\n",
       "      <td>0.086961</td>\n",
       "      <td>-0.377664</td>\n",
       "      <td>0.099404</td>\n",
       "      <td>0.112362</td>\n",
       "      <td>-0.029867</td>\n",
       "      <td>...</td>\n",
       "      <td>0.166064</td>\n",
       "      <td>-0.225255</td>\n",
       "      <td>-0.182011</td>\n",
       "      <td>0.133999</td>\n",
       "      <td>0.238712</td>\n",
       "      <td>0.181247</td>\n",
       "      <td>0.101574</td>\n",
       "      <td>-0.101574</td>\n",
       "      <td>-0.006915</td>\n",
       "      <td>0.006915</td>\n",
       "    </tr>\n",
       "    <tr>\n",
       "      <th>wheel-base</th>\n",
       "      <td>0.112632</td>\n",
       "      <td>-0.529145</td>\n",
       "      <td>-0.057068</td>\n",
       "      <td>1.000000</td>\n",
       "      <td>0.879005</td>\n",
       "      <td>0.814593</td>\n",
       "      <td>0.583789</td>\n",
       "      <td>0.787584</td>\n",
       "      <td>0.576779</td>\n",
       "      <td>0.501534</td>\n",
       "      <td>...</td>\n",
       "      <td>-0.219926</td>\n",
       "      <td>-0.480029</td>\n",
       "      <td>-0.552211</td>\n",
       "      <td>0.589147</td>\n",
       "      <td>0.484047</td>\n",
       "      <td>0.584953</td>\n",
       "      <td>-0.306706</td>\n",
       "      <td>0.306706</td>\n",
       "      <td>0.254907</td>\n",
       "      <td>-0.254907</td>\n",
       "    </tr>\n",
       "    <tr>\n",
       "      <th>length</th>\n",
       "      <td>0.159326</td>\n",
       "      <td>-0.364511</td>\n",
       "      <td>0.019433</td>\n",
       "      <td>0.879005</td>\n",
       "      <td>1.000000</td>\n",
       "      <td>0.857271</td>\n",
       "      <td>0.492955</td>\n",
       "      <td>0.881058</td>\n",
       "      <td>0.685531</td>\n",
       "      <td>0.610817</td>\n",
       "      <td>...</td>\n",
       "      <td>-0.227713</td>\n",
       "      <td>-0.667658</td>\n",
       "      <td>-0.700186</td>\n",
       "      <td>0.691044</td>\n",
       "      <td>0.659174</td>\n",
       "      <td>0.708466</td>\n",
       "      <td>-0.210616</td>\n",
       "      <td>0.210616</td>\n",
       "      <td>0.229294</td>\n",
       "      <td>-0.229294</td>\n",
       "    </tr>\n",
       "    <tr>\n",
       "      <th>width</th>\n",
       "      <td>0.036964</td>\n",
       "      <td>-0.237262</td>\n",
       "      <td>0.086961</td>\n",
       "      <td>0.814593</td>\n",
       "      <td>0.857271</td>\n",
       "      <td>1.000000</td>\n",
       "      <td>0.300995</td>\n",
       "      <td>0.867720</td>\n",
       "      <td>0.731100</td>\n",
       "      <td>0.548478</td>\n",
       "      <td>...</td>\n",
       "      <td>-0.193993</td>\n",
       "      <td>-0.638155</td>\n",
       "      <td>-0.684700</td>\n",
       "      <td>0.752795</td>\n",
       "      <td>0.677111</td>\n",
       "      <td>0.739845</td>\n",
       "      <td>-0.243448</td>\n",
       "      <td>0.243448</td>\n",
       "      <td>0.304459</td>\n",
       "      <td>-0.304459</td>\n",
       "    </tr>\n",
       "    <tr>\n",
       "      <th>height</th>\n",
       "      <td>0.238730</td>\n",
       "      <td>-0.542261</td>\n",
       "      <td>-0.377664</td>\n",
       "      <td>0.583789</td>\n",
       "      <td>0.492955</td>\n",
       "      <td>0.300995</td>\n",
       "      <td>1.000000</td>\n",
       "      <td>0.310660</td>\n",
       "      <td>0.076255</td>\n",
       "      <td>0.187794</td>\n",
       "      <td>...</td>\n",
       "      <td>-0.190708</td>\n",
       "      <td>-0.057087</td>\n",
       "      <td>-0.111568</td>\n",
       "      <td>0.137284</td>\n",
       "      <td>0.008923</td>\n",
       "      <td>0.088903</td>\n",
       "      <td>-0.281198</td>\n",
       "      <td>0.281198</td>\n",
       "      <td>0.086531</td>\n",
       "      <td>-0.086531</td>\n",
       "    </tr>\n",
       "    <tr>\n",
       "      <th>curb-weight</th>\n",
       "      <td>0.065178</td>\n",
       "      <td>-0.234743</td>\n",
       "      <td>0.099404</td>\n",
       "      <td>0.787584</td>\n",
       "      <td>0.881058</td>\n",
       "      <td>0.867720</td>\n",
       "      <td>0.310660</td>\n",
       "      <td>1.000000</td>\n",
       "      <td>0.849090</td>\n",
       "      <td>0.644532</td>\n",
       "      <td>...</td>\n",
       "      <td>-0.188602</td>\n",
       "      <td>-0.750390</td>\n",
       "      <td>-0.795515</td>\n",
       "      <td>0.834420</td>\n",
       "      <td>0.785868</td>\n",
       "      <td>0.837217</td>\n",
       "      <td>-0.221082</td>\n",
       "      <td>0.221082</td>\n",
       "      <td>0.322097</td>\n",
       "      <td>-0.322097</td>\n",
       "    </tr>\n",
       "    <tr>\n",
       "      <th>engine-size</th>\n",
       "      <td>-0.047468</td>\n",
       "      <td>-0.112069</td>\n",
       "      <td>0.112362</td>\n",
       "      <td>0.576779</td>\n",
       "      <td>0.685531</td>\n",
       "      <td>0.731100</td>\n",
       "      <td>0.076255</td>\n",
       "      <td>0.849090</td>\n",
       "      <td>1.000000</td>\n",
       "      <td>0.572786</td>\n",
       "      <td>...</td>\n",
       "      <td>-0.186894</td>\n",
       "      <td>-0.651002</td>\n",
       "      <td>-0.679877</td>\n",
       "      <td>0.872337</td>\n",
       "      <td>0.745337</td>\n",
       "      <td>0.783593</td>\n",
       "      <td>-0.070925</td>\n",
       "      <td>0.070925</td>\n",
       "      <td>0.110278</td>\n",
       "      <td>-0.110278</td>\n",
       "    </tr>\n",
       "    <tr>\n",
       "      <th>bore</th>\n",
       "      <td>0.251250</td>\n",
       "      <td>-0.145667</td>\n",
       "      <td>-0.029867</td>\n",
       "      <td>0.501534</td>\n",
       "      <td>0.610817</td>\n",
       "      <td>0.548478</td>\n",
       "      <td>0.187794</td>\n",
       "      <td>0.644532</td>\n",
       "      <td>0.572786</td>\n",
       "      <td>1.000000</td>\n",
       "      <td>...</td>\n",
       "      <td>-0.220231</td>\n",
       "      <td>-0.581365</td>\n",
       "      <td>-0.590753</td>\n",
       "      <td>0.543431</td>\n",
       "      <td>0.554069</td>\n",
       "      <td>0.558759</td>\n",
       "      <td>-0.055371</td>\n",
       "      <td>0.055371</td>\n",
       "      <td>0.229304</td>\n",
       "      <td>-0.229304</td>\n",
       "    </tr>\n",
       "    <tr>\n",
       "      <th>stroke</th>\n",
       "      <td>-0.181350</td>\n",
       "      <td>0.008244</td>\n",
       "      <td>0.055759</td>\n",
       "      <td>0.144675</td>\n",
       "      <td>0.120888</td>\n",
       "      <td>0.182855</td>\n",
       "      <td>-0.081273</td>\n",
       "      <td>0.168642</td>\n",
       "      <td>0.208004</td>\n",
       "      <td>-0.051087</td>\n",
       "      <td>...</td>\n",
       "      <td>-0.193845</td>\n",
       "      <td>-0.040677</td>\n",
       "      <td>-0.040282</td>\n",
       "      <td>0.083296</td>\n",
       "      <td>0.041470</td>\n",
       "      <td>0.051148</td>\n",
       "      <td>-0.240013</td>\n",
       "      <td>0.240013</td>\n",
       "      <td>0.215759</td>\n",
       "      <td>-0.215759</td>\n",
       "    </tr>\n",
       "    <tr>\n",
       "      <th>compression-ratio</th>\n",
       "      <td>0.142885</td>\n",
       "      <td>-0.181073</td>\n",
       "      <td>-0.114738</td>\n",
       "      <td>0.249689</td>\n",
       "      <td>0.159203</td>\n",
       "      <td>0.189008</td>\n",
       "      <td>0.259526</td>\n",
       "      <td>0.156444</td>\n",
       "      <td>0.029005</td>\n",
       "      <td>0.002021</td>\n",
       "      <td>...</td>\n",
       "      <td>-0.275782</td>\n",
       "      <td>0.330897</td>\n",
       "      <td>0.267929</td>\n",
       "      <td>0.071176</td>\n",
       "      <td>-0.298898</td>\n",
       "      <td>-0.222957</td>\n",
       "      <td>-0.985228</td>\n",
       "      <td>0.985228</td>\n",
       "      <td>0.307074</td>\n",
       "      <td>-0.307074</td>\n",
       "    </tr>\n",
       "    <tr>\n",
       "      <th>horsepower</th>\n",
       "      <td>-0.021028</td>\n",
       "      <td>0.074581</td>\n",
       "      <td>0.217323</td>\n",
       "      <td>0.375732</td>\n",
       "      <td>0.580477</td>\n",
       "      <td>0.617032</td>\n",
       "      <td>-0.085725</td>\n",
       "      <td>0.758095</td>\n",
       "      <td>0.822656</td>\n",
       "      <td>0.566690</td>\n",
       "      <td>...</td>\n",
       "      <td>0.075659</td>\n",
       "      <td>-0.822397</td>\n",
       "      <td>-0.804714</td>\n",
       "      <td>0.809779</td>\n",
       "      <td>0.889584</td>\n",
       "      <td>0.840687</td>\n",
       "      <td>0.168666</td>\n",
       "      <td>-0.168666</td>\n",
       "      <td>0.251924</td>\n",
       "      <td>-0.251924</td>\n",
       "    </tr>\n",
       "    <tr>\n",
       "      <th>peak-rpm</th>\n",
       "      <td>-0.170817</td>\n",
       "      <td>0.186972</td>\n",
       "      <td>0.166064</td>\n",
       "      <td>-0.219926</td>\n",
       "      <td>-0.227713</td>\n",
       "      <td>-0.193993</td>\n",
       "      <td>-0.190708</td>\n",
       "      <td>-0.188602</td>\n",
       "      <td>-0.186894</td>\n",
       "      <td>-0.220231</td>\n",
       "      <td>...</td>\n",
       "      <td>1.000000</td>\n",
       "      <td>-0.055779</td>\n",
       "      <td>-0.044259</td>\n",
       "      <td>-0.037453</td>\n",
       "      <td>0.072765</td>\n",
       "      <td>0.030753</td>\n",
       "      <td>0.306050</td>\n",
       "      <td>-0.306050</td>\n",
       "      <td>-0.098239</td>\n",
       "      <td>0.098239</td>\n",
       "    </tr>\n",
       "    <tr>\n",
       "      <th>city-mpg</th>\n",
       "      <td>0.022527</td>\n",
       "      <td>-0.030158</td>\n",
       "      <td>-0.225255</td>\n",
       "      <td>-0.480029</td>\n",
       "      <td>-0.667658</td>\n",
       "      <td>-0.638155</td>\n",
       "      <td>-0.057087</td>\n",
       "      <td>-0.750390</td>\n",
       "      <td>-0.651002</td>\n",
       "      <td>-0.581365</td>\n",
       "      <td>...</td>\n",
       "      <td>-0.055779</td>\n",
       "      <td>1.000000</td>\n",
       "      <td>0.972024</td>\n",
       "      <td>-0.687186</td>\n",
       "      <td>-0.949692</td>\n",
       "      <td>-0.909113</td>\n",
       "      <td>-0.264947</td>\n",
       "      <td>0.264947</td>\n",
       "      <td>-0.191068</td>\n",
       "      <td>0.191068</td>\n",
       "    </tr>\n",
       "    <tr>\n",
       "      <th>highway-mpg</th>\n",
       "      <td>0.015801</td>\n",
       "      <td>0.041248</td>\n",
       "      <td>-0.182011</td>\n",
       "      <td>-0.552211</td>\n",
       "      <td>-0.700186</td>\n",
       "      <td>-0.684700</td>\n",
       "      <td>-0.111568</td>\n",
       "      <td>-0.795515</td>\n",
       "      <td>-0.679877</td>\n",
       "      <td>-0.590753</td>\n",
       "      <td>...</td>\n",
       "      <td>-0.044259</td>\n",
       "      <td>0.972024</td>\n",
       "      <td>1.000000</td>\n",
       "      <td>-0.705115</td>\n",
       "      <td>-0.929940</td>\n",
       "      <td>-0.951133</td>\n",
       "      <td>-0.197989</td>\n",
       "      <td>0.197989</td>\n",
       "      <td>-0.243429</td>\n",
       "      <td>0.243429</td>\n",
       "    </tr>\n",
       "    <tr>\n",
       "      <th>price</th>\n",
       "      <td>-0.118787</td>\n",
       "      <td>-0.083327</td>\n",
       "      <td>0.133999</td>\n",
       "      <td>0.589147</td>\n",
       "      <td>0.691044</td>\n",
       "      <td>0.752795</td>\n",
       "      <td>0.137284</td>\n",
       "      <td>0.834420</td>\n",
       "      <td>0.872337</td>\n",
       "      <td>0.543431</td>\n",
       "      <td>...</td>\n",
       "      <td>-0.037453</td>\n",
       "      <td>-0.687186</td>\n",
       "      <td>-0.705115</td>\n",
       "      <td>1.000000</td>\n",
       "      <td>0.790291</td>\n",
       "      <td>0.801313</td>\n",
       "      <td>-0.110417</td>\n",
       "      <td>0.110417</td>\n",
       "      <td>0.179762</td>\n",
       "      <td>-0.179762</td>\n",
       "    </tr>\n",
       "    <tr>\n",
       "      <th>city-L/100km</th>\n",
       "      <td>-0.095680</td>\n",
       "      <td>0.062423</td>\n",
       "      <td>0.238712</td>\n",
       "      <td>0.484047</td>\n",
       "      <td>0.659174</td>\n",
       "      <td>0.677111</td>\n",
       "      <td>0.008923</td>\n",
       "      <td>0.785868</td>\n",
       "      <td>0.745337</td>\n",
       "      <td>0.554069</td>\n",
       "      <td>...</td>\n",
       "      <td>0.072765</td>\n",
       "      <td>-0.949692</td>\n",
       "      <td>-0.929940</td>\n",
       "      <td>0.790291</td>\n",
       "      <td>1.000000</td>\n",
       "      <td>0.958312</td>\n",
       "      <td>0.240676</td>\n",
       "      <td>-0.240676</td>\n",
       "      <td>0.158912</td>\n",
       "      <td>-0.158912</td>\n",
       "    </tr>\n",
       "    <tr>\n",
       "      <th>highway-L/100km</th>\n",
       "      <td>-0.075844</td>\n",
       "      <td>-0.033159</td>\n",
       "      <td>0.181247</td>\n",
       "      <td>0.584953</td>\n",
       "      <td>0.708466</td>\n",
       "      <td>0.739845</td>\n",
       "      <td>0.088903</td>\n",
       "      <td>0.837217</td>\n",
       "      <td>0.783593</td>\n",
       "      <td>0.558759</td>\n",
       "      <td>...</td>\n",
       "      <td>0.030753</td>\n",
       "      <td>-0.909113</td>\n",
       "      <td>-0.951133</td>\n",
       "      <td>0.801313</td>\n",
       "      <td>0.958312</td>\n",
       "      <td>1.000000</td>\n",
       "      <td>0.157589</td>\n",
       "      <td>-0.157589</td>\n",
       "      <td>0.211741</td>\n",
       "      <td>-0.211741</td>\n",
       "    </tr>\n",
       "    <tr>\n",
       "      <th>fuel-type-gas</th>\n",
       "      <td>-0.119513</td>\n",
       "      <td>0.195381</td>\n",
       "      <td>0.101574</td>\n",
       "      <td>-0.306706</td>\n",
       "      <td>-0.210616</td>\n",
       "      <td>-0.243448</td>\n",
       "      <td>-0.281198</td>\n",
       "      <td>-0.221082</td>\n",
       "      <td>-0.070925</td>\n",
       "      <td>-0.055371</td>\n",
       "      <td>...</td>\n",
       "      <td>0.306050</td>\n",
       "      <td>-0.264947</td>\n",
       "      <td>-0.197989</td>\n",
       "      <td>-0.110417</td>\n",
       "      <td>0.240676</td>\n",
       "      <td>0.157589</td>\n",
       "      <td>1.000000</td>\n",
       "      <td>-1.000000</td>\n",
       "      <td>-0.407787</td>\n",
       "      <td>0.407787</td>\n",
       "    </tr>\n",
       "    <tr>\n",
       "      <th>fuel-type-diesel</th>\n",
       "      <td>0.119513</td>\n",
       "      <td>-0.195381</td>\n",
       "      <td>-0.101574</td>\n",
       "      <td>0.306706</td>\n",
       "      <td>0.210616</td>\n",
       "      <td>0.243448</td>\n",
       "      <td>0.281198</td>\n",
       "      <td>0.221082</td>\n",
       "      <td>0.070925</td>\n",
       "      <td>0.055371</td>\n",
       "      <td>...</td>\n",
       "      <td>-0.306050</td>\n",
       "      <td>0.264947</td>\n",
       "      <td>0.197989</td>\n",
       "      <td>0.110417</td>\n",
       "      <td>-0.240676</td>\n",
       "      <td>-0.157589</td>\n",
       "      <td>-1.000000</td>\n",
       "      <td>1.000000</td>\n",
       "      <td>0.407787</td>\n",
       "      <td>-0.407787</td>\n",
       "    </tr>\n",
       "    <tr>\n",
       "      <th>aspiration-turbo</th>\n",
       "      <td>0.079348</td>\n",
       "      <td>-0.050995</td>\n",
       "      <td>-0.006915</td>\n",
       "      <td>0.254907</td>\n",
       "      <td>0.229294</td>\n",
       "      <td>0.304459</td>\n",
       "      <td>0.086531</td>\n",
       "      <td>0.322097</td>\n",
       "      <td>0.110278</td>\n",
       "      <td>0.229304</td>\n",
       "      <td>...</td>\n",
       "      <td>-0.098239</td>\n",
       "      <td>-0.191068</td>\n",
       "      <td>-0.243429</td>\n",
       "      <td>0.179762</td>\n",
       "      <td>0.158912</td>\n",
       "      <td>0.211741</td>\n",
       "      <td>-0.407787</td>\n",
       "      <td>0.407787</td>\n",
       "      <td>1.000000</td>\n",
       "      <td>-1.000000</td>\n",
       "    </tr>\n",
       "    <tr>\n",
       "      <th>aspiration-std</th>\n",
       "      <td>-0.079348</td>\n",
       "      <td>0.050995</td>\n",
       "      <td>0.006915</td>\n",
       "      <td>-0.254907</td>\n",
       "      <td>-0.229294</td>\n",
       "      <td>-0.304459</td>\n",
       "      <td>-0.086531</td>\n",
       "      <td>-0.322097</td>\n",
       "      <td>-0.110278</td>\n",
       "      <td>-0.229304</td>\n",
       "      <td>...</td>\n",
       "      <td>0.098239</td>\n",
       "      <td>0.191068</td>\n",
       "      <td>0.243429</td>\n",
       "      <td>-0.179762</td>\n",
       "      <td>-0.158912</td>\n",
       "      <td>-0.211741</td>\n",
       "      <td>0.407787</td>\n",
       "      <td>-0.407787</td>\n",
       "      <td>-1.000000</td>\n",
       "      <td>1.000000</td>\n",
       "    </tr>\n",
       "  </tbody>\n",
       "</table>\n",
       "<p>23 rows × 23 columns</p>\n",
       "</div>"
      ],
      "text/plain": [
       "                   Unnamed: 0  symboling  normalized-losses  wheel-base  \\\n",
       "Unnamed: 0           1.000000  -0.150130          -0.242903    0.112632   \n",
       "symboling           -0.150130   1.000000           0.469772   -0.529145   \n",
       "normalized-losses   -0.242903   0.469772           1.000000   -0.057068   \n",
       "wheel-base           0.112632  -0.529145          -0.057068    1.000000   \n",
       "length               0.159326  -0.364511           0.019433    0.879005   \n",
       "width                0.036964  -0.237262           0.086961    0.814593   \n",
       "height               0.238730  -0.542261          -0.377664    0.583789   \n",
       "curb-weight          0.065178  -0.234743           0.099404    0.787584   \n",
       "engine-size         -0.047468  -0.112069           0.112362    0.576779   \n",
       "bore                 0.251250  -0.145667          -0.029867    0.501534   \n",
       "stroke              -0.181350   0.008244           0.055759    0.144675   \n",
       "compression-ratio    0.142885  -0.181073          -0.114738    0.249689   \n",
       "horsepower          -0.021028   0.074581           0.217323    0.375732   \n",
       "peak-rpm            -0.170817   0.186972           0.166064   -0.219926   \n",
       "city-mpg             0.022527  -0.030158          -0.225255   -0.480029   \n",
       "highway-mpg          0.015801   0.041248          -0.182011   -0.552211   \n",
       "price               -0.118787  -0.083327           0.133999    0.589147   \n",
       "city-L/100km        -0.095680   0.062423           0.238712    0.484047   \n",
       "highway-L/100km     -0.075844  -0.033159           0.181247    0.584953   \n",
       "fuel-type-gas       -0.119513   0.195381           0.101574   -0.306706   \n",
       "fuel-type-diesel     0.119513  -0.195381          -0.101574    0.306706   \n",
       "aspiration-turbo     0.079348  -0.050995          -0.006915    0.254907   \n",
       "aspiration-std      -0.079348   0.050995           0.006915   -0.254907   \n",
       "\n",
       "                     length     width    height  curb-weight  engine-size  \\\n",
       "Unnamed: 0         0.159326  0.036964  0.238730     0.065178    -0.047468   \n",
       "symboling         -0.364511 -0.237262 -0.542261    -0.234743    -0.112069   \n",
       "normalized-losses  0.019433  0.086961 -0.377664     0.099404     0.112362   \n",
       "wheel-base         0.879005  0.814593  0.583789     0.787584     0.576779   \n",
       "length             1.000000  0.857271  0.492955     0.881058     0.685531   \n",
       "width              0.857271  1.000000  0.300995     0.867720     0.731100   \n",
       "height             0.492955  0.300995  1.000000     0.310660     0.076255   \n",
       "curb-weight        0.881058  0.867720  0.310660     1.000000     0.849090   \n",
       "engine-size        0.685531  0.731100  0.076255     0.849090     1.000000   \n",
       "bore               0.610817  0.548478  0.187794     0.644532     0.572786   \n",
       "stroke             0.120888  0.182855 -0.081273     0.168642     0.208004   \n",
       "compression-ratio  0.159203  0.189008  0.259526     0.156444     0.029005   \n",
       "horsepower         0.580477  0.617032 -0.085725     0.758095     0.822656   \n",
       "peak-rpm          -0.227713 -0.193993 -0.190708    -0.188602    -0.186894   \n",
       "city-mpg          -0.667658 -0.638155 -0.057087    -0.750390    -0.651002   \n",
       "highway-mpg       -0.700186 -0.684700 -0.111568    -0.795515    -0.679877   \n",
       "price              0.691044  0.752795  0.137284     0.834420     0.872337   \n",
       "city-L/100km       0.659174  0.677111  0.008923     0.785868     0.745337   \n",
       "highway-L/100km    0.708466  0.739845  0.088903     0.837217     0.783593   \n",
       "fuel-type-gas     -0.210616 -0.243448 -0.281198    -0.221082    -0.070925   \n",
       "fuel-type-diesel   0.210616  0.243448  0.281198     0.221082     0.070925   \n",
       "aspiration-turbo   0.229294  0.304459  0.086531     0.322097     0.110278   \n",
       "aspiration-std    -0.229294 -0.304459 -0.086531    -0.322097    -0.110278   \n",
       "\n",
       "                       bore  ...  peak-rpm  city-mpg  highway-mpg     price  \\\n",
       "Unnamed: 0         0.251250  ... -0.170817  0.022527     0.015801 -0.118787   \n",
       "symboling         -0.145667  ...  0.186972 -0.030158     0.041248 -0.083327   \n",
       "normalized-losses -0.029867  ...  0.166064 -0.225255    -0.182011  0.133999   \n",
       "wheel-base         0.501534  ... -0.219926 -0.480029    -0.552211  0.589147   \n",
       "length             0.610817  ... -0.227713 -0.667658    -0.700186  0.691044   \n",
       "width              0.548478  ... -0.193993 -0.638155    -0.684700  0.752795   \n",
       "height             0.187794  ... -0.190708 -0.057087    -0.111568  0.137284   \n",
       "curb-weight        0.644532  ... -0.188602 -0.750390    -0.795515  0.834420   \n",
       "engine-size        0.572786  ... -0.186894 -0.651002    -0.679877  0.872337   \n",
       "bore               1.000000  ... -0.220231 -0.581365    -0.590753  0.543431   \n",
       "stroke            -0.051087  ... -0.193845 -0.040677    -0.040282  0.083296   \n",
       "compression-ratio  0.002021  ... -0.275782  0.330897     0.267929  0.071176   \n",
       "horsepower         0.566690  ...  0.075659 -0.822397    -0.804714  0.809779   \n",
       "peak-rpm          -0.220231  ...  1.000000 -0.055779    -0.044259 -0.037453   \n",
       "city-mpg          -0.581365  ... -0.055779  1.000000     0.972024 -0.687186   \n",
       "highway-mpg       -0.590753  ... -0.044259  0.972024     1.000000 -0.705115   \n",
       "price              0.543431  ... -0.037453 -0.687186    -0.705115  1.000000   \n",
       "city-L/100km       0.554069  ...  0.072765 -0.949692    -0.929940  0.790291   \n",
       "highway-L/100km    0.558759  ...  0.030753 -0.909113    -0.951133  0.801313   \n",
       "fuel-type-gas     -0.055371  ...  0.306050 -0.264947    -0.197989 -0.110417   \n",
       "fuel-type-diesel   0.055371  ... -0.306050  0.264947     0.197989  0.110417   \n",
       "aspiration-turbo   0.229304  ... -0.098239 -0.191068    -0.243429  0.179762   \n",
       "aspiration-std    -0.229304  ...  0.098239  0.191068     0.243429 -0.179762   \n",
       "\n",
       "                   city-L/100km  highway-L/100km  fuel-type-gas  \\\n",
       "Unnamed: 0            -0.095680        -0.075844      -0.119513   \n",
       "symboling              0.062423        -0.033159       0.195381   \n",
       "normalized-losses      0.238712         0.181247       0.101574   \n",
       "wheel-base             0.484047         0.584953      -0.306706   \n",
       "length                 0.659174         0.708466      -0.210616   \n",
       "width                  0.677111         0.739845      -0.243448   \n",
       "height                 0.008923         0.088903      -0.281198   \n",
       "curb-weight            0.785868         0.837217      -0.221082   \n",
       "engine-size            0.745337         0.783593      -0.070925   \n",
       "bore                   0.554069         0.558759      -0.055371   \n",
       "stroke                 0.041470         0.051148      -0.240013   \n",
       "compression-ratio     -0.298898        -0.222957      -0.985228   \n",
       "horsepower             0.889584         0.840687       0.168666   \n",
       "peak-rpm               0.072765         0.030753       0.306050   \n",
       "city-mpg              -0.949692        -0.909113      -0.264947   \n",
       "highway-mpg           -0.929940        -0.951133      -0.197989   \n",
       "price                  0.790291         0.801313      -0.110417   \n",
       "city-L/100km           1.000000         0.958312       0.240676   \n",
       "highway-L/100km        0.958312         1.000000       0.157589   \n",
       "fuel-type-gas          0.240676         0.157589       1.000000   \n",
       "fuel-type-diesel      -0.240676        -0.157589      -1.000000   \n",
       "aspiration-turbo       0.158912         0.211741      -0.407787   \n",
       "aspiration-std        -0.158912        -0.211741       0.407787   \n",
       "\n",
       "                   fuel-type-diesel  aspiration-turbo  aspiration-std  \n",
       "Unnamed: 0                 0.119513          0.079348       -0.079348  \n",
       "symboling                 -0.195381         -0.050995        0.050995  \n",
       "normalized-losses         -0.101574         -0.006915        0.006915  \n",
       "wheel-base                 0.306706          0.254907       -0.254907  \n",
       "length                     0.210616          0.229294       -0.229294  \n",
       "width                      0.243448          0.304459       -0.304459  \n",
       "height                     0.281198          0.086531       -0.086531  \n",
       "curb-weight                0.221082          0.322097       -0.322097  \n",
       "engine-size                0.070925          0.110278       -0.110278  \n",
       "bore                       0.055371          0.229304       -0.229304  \n",
       "stroke                     0.240013          0.215759       -0.215759  \n",
       "compression-ratio          0.985228          0.307074       -0.307074  \n",
       "horsepower                -0.168666          0.251924       -0.251924  \n",
       "peak-rpm                  -0.306050         -0.098239        0.098239  \n",
       "city-mpg                   0.264947         -0.191068        0.191068  \n",
       "highway-mpg                0.197989         -0.243429        0.243429  \n",
       "price                      0.110417          0.179762       -0.179762  \n",
       "city-L/100km              -0.240676          0.158912       -0.158912  \n",
       "highway-L/100km           -0.157589          0.211741       -0.211741  \n",
       "fuel-type-gas             -1.000000         -0.407787        0.407787  \n",
       "fuel-type-diesel           1.000000          0.407787       -0.407787  \n",
       "aspiration-turbo           0.407787          1.000000       -1.000000  \n",
       "aspiration-std            -0.407787         -1.000000        1.000000  \n",
       "\n",
       "[23 rows x 23 columns]"
      ]
     },
     "execution_count": 269,
     "metadata": {},
     "output_type": "execute_result"
    }
   ],
   "source": [
    "df_num.corr()"
   ]
  },
  {
   "cell_type": "markdown",
   "metadata": {},
   "source": [
    "This value can be helpful for assessing how related two variables are. But, sometimes we would like to know the significant of the correlation estimate. We might want to know what the probability is that the relationship between the two is *statistically significant*. \n",
    "\n",
    "**P-value**\n",
    "\n",
    "What is this p-value? The p-value is the probability value that the correlation between these two variables is statistically significant. \n",
    "\n",
    "Normally, we choose a significance level of 0.05, which means that we are 95% confident that the correlation between the variables is significant. Regardless of what correlation we calculate(weak, strong, etc.) we need to know how likely it is that correlation is accurate. High correlation coefficients don't necessarily guarantee high p-values. You could have a relationship with a low correlation coefficient with a high p-value and be pretty confident those two variables are not good predictors of one another. Or, you could have a relationship with a strong correlation coefficient and a low p-value and be less confident a relationship actually exists.\n",
    "\n",
    "\n",
    "Since we are using a significance level of 0.05, if\n",
    "- the p-value is $< 0.001$: we say there is strong evidence that the correlation is significant\n",
    "- the p-value is $< 0.05$: there is moderate evidence that the correlation is significant\n",
    "- the p-value is $< 0.1$: there is weak evidence that the correlation is significant\n",
    "- the p-value is $> 0.1$: there is no evidence that the correlation is significant\n",
    "\n",
    "**How do we actually use these two things?**\n",
    "\n",
    "For any two random variables, we can compute their Pearson coerrelation coefficient and the associated p-value. The Pearson correlation coefficient will tell us what relationship the two variables may have(strong positive linear, strong negative linear, weak linear, etc). Then based on the p-value, we can make a determiniation about how statistically significant that relationship is. \n",
    "\n",
    "Your conclusions will be in a similar form to: \"Since the p-value is less than or greater than ______, the correlation between variable 1 and variable 2 is ____________(from bullets above), and the linear relationship is _________ (weak, strong, somewhat strong etc./positive, negative, neither) with a correlation coefficient of ______.\" At the end of our analysis, we will be able to make some determinations about which features we think are significant and would be worth including in our model.\n",
    "\n",
    "Let's import the `stats` module from the `scipy` library. If `scipy` is not installed, you will want to use pip to add it to your environment. "
   ]
  },
  {
   "cell_type": "code",
   "execution_count": 270,
   "metadata": {},
   "outputs": [],
   "source": [
    "from scipy import stats"
   ]
  },
  {
   "cell_type": "markdown",
   "metadata": {},
   "source": [
    "#### Wheel-Base vs. Price\n",
    "Let's calculate the Pearson correlation coefficient and p-value of 'wheel-base' and 'price'. Using `stats`, we can get both by with the line: `pearson_coef, p_value = stats.pearsonr(x_column, y_column)`.\n"
   ]
  },
  {
   "cell_type": "code",
   "execution_count": 271,
   "metadata": {},
   "outputs": [
    {
     "name": "stdout",
     "output_type": "stream",
     "text": [
      "Pearson Correlation Coeffificient:0.5891470005448698 and P-value:4.4570195020505774e-20\n"
     ]
    }
   ],
   "source": [
    "x_column = df2[\"wheel-base\"]\n",
    "y_column = df2['price']\n",
    "pearson_coef, p_value = stats.pearsonr(x_column, y_column)\n",
    "print(f'Pearson Correlation Coeffificient:{pearson_coef} and P-value:{p_value}')"
   ]
  },
  {
   "cell_type": "markdown",
   "metadata": {},
   "source": [
    "**Conclusion**\n",
    "Since the p-value is less than than 0.05, the correlation between variable 1 and variable 2 is significant, and the linear relationship is weak with a correlation coefficient of 0.589."
   ]
  },
  {
   "cell_type": "markdown",
   "metadata": {},
   "source": [
    "#### Horsepower vs. Price\n",
    "Let's calculate the  Pearson correlation coefficient and p-value of 'horsepower' and 'price'.\n"
   ]
  },
  {
   "cell_type": "code",
   "execution_count": 272,
   "metadata": {},
   "outputs": [
    {
     "name": "stdout",
     "output_type": "stream",
     "text": [
      "Pearson Correlation Coeffificient:0.8097789763551081 and P-value:9.887379251282475e-48\n"
     ]
    }
   ],
   "source": [
    "x_column2 = df2['horsepower']\n",
    "pearson_coef2, p_value2 = stats.pearsonr(x_column2, y_column)\n",
    "print(f'Pearson Correlation Coeffificient:{pearson_coef2} and P-value:{p_value2}')"
   ]
  },
  {
   "cell_type": "markdown",
   "metadata": {},
   "source": [
    "**Conclusion**\n",
    "Since the p-value is less than than 0.01, the correlation between variable 1 and variable 2 is significant (confidant), and the linear relationship is strong with a correlation coefficient of 0.809."
   ]
  },
  {
   "cell_type": "markdown",
   "metadata": {},
   "source": [
    "#### Length vs. Price\n",
    "Let's calculate the Pearson correlation coefficient and p-value of 'length' and 'price'.\n"
   ]
  },
  {
   "cell_type": "code",
   "execution_count": 273,
   "metadata": {},
   "outputs": [
    {
     "name": "stdout",
     "output_type": "stream",
     "text": [
      "Pearson Correlation Coeffificient:0.6910440897821901 and P-value:9.960963222349014e-30\n"
     ]
    }
   ],
   "source": [
    "x_column3 = df2['length']\n",
    "pearson_coef3, p_value3 = stats.pearsonr(x_column3, y_column)\n",
    "print(f'Pearson Correlation Coeffificient:{pearson_coef3} and P-value:{p_value3}')"
   ]
  },
  {
   "cell_type": "markdown",
   "metadata": {},
   "source": [
    "**Conclusion**\n",
    "Since the p-value is less than than 0.01, the correlation between variable 1 and variable 2 is significant (confidant), and the linear relationship is somewhat weak with a correlation coefficient of 0.691."
   ]
  },
  {
   "cell_type": "markdown",
   "metadata": {},
   "source": [
    "#### Width vs. Price\n",
    "Let's calculate the Pearson correlation coefficient and p-value of 'width' and 'price'.\n"
   ]
  },
  {
   "cell_type": "code",
   "execution_count": 274,
   "metadata": {},
   "outputs": [
    {
     "name": "stdout",
     "output_type": "stream",
     "text": [
      "Pearson Correlation Coeffificient:0.7527948631832618 and P-value:4.4570195020505774e-20\n"
     ]
    }
   ],
   "source": [
    "x_column4 = df2['width']\n",
    "pearson_coef4, p_value4 = stats.pearsonr(x_column4, y_column)\n",
    "print(f'Pearson Correlation Coeffificient:{pearson_coef4} and P-value:{p_value}')"
   ]
  },
  {
   "cell_type": "markdown",
   "metadata": {},
   "source": [
    "**Conclusion**\n",
    "Since the p-value is less than than 0.01, the correlation between variable 1 and variable 2 is significant (confidant), and the linear relationship is somewhat weak with a correlation coefficient of 0.691."
   ]
  },
  {
   "cell_type": "markdown",
   "metadata": {},
   "source": [
    "#### Curb-weight vs. Price\n",
    "Let's calculate the Pearson correlation coefficient and p-value of 'curb-weigth' and 'price'.\n"
   ]
  },
  {
   "cell_type": "code",
   "execution_count": 275,
   "metadata": {},
   "outputs": [
    {
     "name": "stdout",
     "output_type": "stream",
     "text": [
      "Pearson Correlation Coeffificient:0.8344204348498457 and P-value:3.9699775360228525e-53\n"
     ]
    }
   ],
   "source": [
    "x_column5 = df2['curb-weight']\n",
    "pearson_coef5, p_value5 = stats.pearsonr(x_column5, y_column)\n",
    "print(f'Pearson Correlation Coeffificient:{pearson_coef5} and P-value:{p_value5}')"
   ]
  },
  {
   "cell_type": "markdown",
   "metadata": {},
   "source": [
    "**Conclusion**"
   ]
  },
  {
   "cell_type": "markdown",
   "metadata": {},
   "source": [
    "#### Engine-size vs. Price\n",
    "Let's calculate the Pearson correlation coefficient and p-value of 'engine-size' and 'price'.\n"
   ]
  },
  {
   "cell_type": "code",
   "execution_count": 276,
   "metadata": {},
   "outputs": [
    {
     "name": "stdout",
     "output_type": "stream",
     "text": [
      "Pearson Correlation Coeffificient:0.8723367498521144 and P-value:1.8977171466558913e-63\n"
     ]
    }
   ],
   "source": [
    "x_column6 = df2['engine-size']\n",
    "pearson_coef6, p_value6 = stats.pearsonr(x_column6, y_column)\n",
    "print(f'Pearson Correlation Coeffificient:{pearson_coef6} and P-value:{p_value6}')"
   ]
  },
  {
   "cell_type": "markdown",
   "metadata": {},
   "source": [
    "**Conclusion**"
   ]
  },
  {
   "cell_type": "markdown",
   "metadata": {},
   "source": [
    "#### Bore vs. Price\n",
    "Let's calculate the Pearson correlation coefficient and p-value of 'bore' and 'price'.\n"
   ]
  },
  {
   "cell_type": "code",
   "execution_count": 277,
   "metadata": {},
   "outputs": [
    {
     "name": "stdout",
     "output_type": "stream",
     "text": [
      "Pearson Correlation Coeffificient:0.5434310033088071 and P-value:9.209749630851605e-17\n"
     ]
    }
   ],
   "source": [
    "x_column7 = df2['bore']\n",
    "pearson_coef7, p_value7 = stats.pearsonr(x_column7, y_column)\n",
    "print(f'Pearson Correlation Coeffificient:{pearson_coef7} and P-value:{p_value7}')"
   ]
  },
  {
   "cell_type": "markdown",
   "metadata": {},
   "source": [
    "**Conclusion**"
   ]
  },
  {
   "cell_type": "markdown",
   "metadata": {},
   "source": [
    "#### City MPG vs. Price\n",
    "Let's calculate the Pearson correlation coefficient and p-value of 'city-mpg' and 'price'."
   ]
  },
  {
   "cell_type": "code",
   "execution_count": 278,
   "metadata": {},
   "outputs": [
    {
     "name": "stdout",
     "output_type": "stream",
     "text": [
      "Pearson Correlation Coeffificient:-0.6871861020862692 and P-value:2.729256568478666e-29\n"
     ]
    }
   ],
   "source": [
    "x_column8 = df2['city-mpg']\n",
    "pearson_coef8, p_value8 = stats.pearsonr(x_column8, y_column)\n",
    "print(f'Pearson Correlation Coeffificient:{pearson_coef8} and P-value:{p_value8}')"
   ]
  },
  {
   "cell_type": "markdown",
   "metadata": {},
   "source": [
    "**Conclusion**"
   ]
  },
  {
   "cell_type": "markdown",
   "metadata": {},
   "source": [
    "#### Highway MPG vs. Price\n",
    "Let's calculate the Pearson correlation coefficient and p-value of 'highway-mpg' and 'price'.\n"
   ]
  },
  {
   "cell_type": "code",
   "execution_count": 279,
   "metadata": {},
   "outputs": [
    {
     "name": "stdout",
     "output_type": "stream",
     "text": [
      "Pearson Correlation Coeffificient:-0.7051147088046408 and P-value:2.1973260531580844e-31\n"
     ]
    }
   ],
   "source": [
    "x_column9 = df2['highway-mpg']\n",
    "pearson_coef9, p_value9 = stats.pearsonr(x_column9, y_column)\n",
    "print(f'Pearson Correlation Coeffificient:{pearson_coef9} and P-value:{p_value9}')"
   ]
  },
  {
   "cell_type": "markdown",
   "metadata": {},
   "source": [
    "**Conclusion**"
   ]
  },
  {
   "cell_type": "markdown",
   "metadata": {},
   "source": [
    "### ANOVA: Analysis of Variance\n",
    "The Analysis of Variance  (ANOVA) is a statistical method used to test whether there are significant differences between the means of two or more groups. ANOVA returns two parameters:\n",
    "- **F-test score**: ANOVA assumes the means of all groups are the same, calculates how much the actual means deviate from the assumption, and reports it as the F-test score. A larger score means there is a larger difference between the means.\n",
    "- **P-value<**:  P-value tells how statistically significant our calculated score value is.\n",
    "\n",
    "If our price variable is strongly correlated with the variable we are analyzing, we expect ANOVA to return a sizeable F-test score and a small p-value.\n",
    "\n",
    "#### Drive Wheels\n",
    "From our boxplots earlier, we still aren't sure whether drive wheel type is a good predictor of vehicle price. This is a great time for us to use ANOVA!\n",
    "\n",
    "Since ANOVA analyzes the difference between different groups of the same variable, the groupby function will come in handy. Because the ANOVA algorithm averages the data automatically, we do not need to take the average before hand.\n",
    "\n",
    "To see if different types of 'drive-wheels' impact 'price', we group the data. If we get the 'drive-wheels' and 'price' columns from the dataframe and then use `.groupby(['drive-wheels])`, it will return a grouping of our data by 'drive-wheel'. Let's save it as a variable `gp_dw`."
   ]
  },
  {
   "cell_type": "code",
   "execution_count": null,
   "metadata": {},
   "outputs": [],
   "source": []
  },
  {
   "cell_type": "markdown",
   "metadata": {},
   "source": [
    "Then we can get the prive value for a specific \"drive-wheel\" category with the `get_group()` method. If we wanted to know the 'price' of all 4wd vehicles we could  use `.get_group('4wd')` on `gp_dw`."
   ]
  },
  {
   "cell_type": "code",
   "execution_count": null,
   "metadata": {},
   "outputs": [],
   "source": []
  },
  {
   "cell_type": "markdown",
   "metadata": {},
   "source": [
    "Let's use ANOVA to see if there is a relationship between 'price' and 'fwd', 'rwd', or '4wd'. We can use the `stats` function `f_oneway()` to obtain the **F-test score** and **p-value**. To use it `f_val, p_val = stats.f_oneway(...)` with each group we want to analyze passed in as parameters(by getting the `['price']` column of each row in the group using the `get_group()` function from the last cell). "
   ]
  },
  {
   "cell_type": "code",
   "execution_count": null,
   "metadata": {},
   "outputs": [],
   "source": []
  },
  {
   "cell_type": "markdown",
   "metadata": {},
   "source": [
    "This is a great result with a large F-test score showing a strong correlation and a P-value of almost 0 implying almost certain statistical significance. But does this mean all three tested groups are all this highly correlated?\n",
    "\n",
    "Let's examine them separately.\n",
    "\n",
    "#### fwd and rwd\n",
    "Run the same test with only 'fwd' and 'rwd'"
   ]
  },
  {
   "cell_type": "code",
   "execution_count": null,
   "metadata": {},
   "outputs": [],
   "source": []
  },
  {
   "cell_type": "markdown",
   "metadata": {},
   "source": [
    "\n",
    "#### 4wd and rwd"
   ]
  },
  {
   "cell_type": "code",
   "execution_count": null,
   "metadata": {},
   "outputs": [],
   "source": []
  },
  {
   "cell_type": "markdown",
   "metadata": {},
   "source": [
    "#### 4wd and fwd\n"
   ]
  },
  {
   "cell_type": "code",
   "execution_count": null,
   "metadata": {},
   "outputs": [],
   "source": []
  },
  {
   "cell_type": "markdown",
   "metadata": {},
   "source": [
    "We notice that ANOVA for the categories `4wd` and `fwd` yields a high p-value $> 0.1$, so the calculated F-test score is not very statistically significant. This suggests we can't reject the assumption that the means of these two groups are the same, or, in other words, we can't conclude the difference in correlation to be significant.\n"
   ]
  },
  {
   "cell_type": "markdown",
   "metadata": {},
   "source": [
    "## Conclusion: Important Variables\n",
    "We now have a better idea of what our data looks like and which variables are important to take into account when predicting the car price. We have narrowed it down to the following variables:\n",
    "\n",
    "Continuous numerical variables:\n",
    "- Length\n",
    "- Width\n",
    "- Curb-weight\n",
    "- Engine-size\n",
    "- Horsepower\n",
    "- City-mpg\n",
    "- Highway-mpg\n",
    "- Wheel-base\n",
    "- Bore\n",
    "\n",
    "Categorical variables:\n",
    "- Drive-wheels\n",
    "\n",
    "As we now move into building machine learning models to automate our analysis, feeding the model with variables that meaningfully affect our target variable will improve our model's prediction performance.\n",
    "\n",
    "\n",
    "\n",
    "## Export your file\n",
    "To move to the model building of next lab, we need to save our dataframe in a new file. Use the function `df.to_csv(file_name)` to save your dataframe to a new csv.\n"
   ]
  },
  {
   "cell_type": "code",
   "execution_count": null,
   "metadata": {},
   "outputs": [],
   "source": []
  }
 ],
 "metadata": {
  "kernelspec": {
   "display_name": "Python 3",
   "language": "python",
   "name": "python3"
  },
  "language_info": {
   "codemirror_mode": {
    "name": "ipython",
    "version": 3
   },
   "file_extension": ".py",
   "mimetype": "text/x-python",
   "name": "python",
   "nbconvert_exporter": "python",
   "pygments_lexer": "ipython3",
   "version": "3.12.3"
  }
 },
 "nbformat": 4,
 "nbformat_minor": 2
}
