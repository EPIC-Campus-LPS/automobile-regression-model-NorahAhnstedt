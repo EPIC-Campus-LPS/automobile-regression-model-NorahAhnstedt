{
 "cells": [
  {
   "cell_type": "markdown",
   "metadata": {},
   "source": [
    "# Project 2.1: Modeling the Price of Vehicles\n",
    "## Part 1: Cleaning and Wrangling Data with Automobile Dataset\n",
    "\n",
    "For this dataset, we will try to build a model to determine the price of a vehicle. For this lab, we will complete the data cleaning and exploratory data analysis required to build our model. Cleaning the dataset and identifying features which relate to vehicle price is critical to building a model to answer our question. A future lab will use our findings here to actually create the model. This notebook contains part 1 of this lab and is worth 6 points.\n",
    "\n",
    "**Rubric**\n",
    "\n",
    "- 6 pts - Contains all required components and uses professional language\n",
    "- 5 pts - Contains all required components, but uses unprofessional language, formating, etc.\n",
    "- 4 pts - Contains some, but not all, of the required components\n",
    "- 3 pts - Did not submit\n"
   ]
  },
  {
   "cell_type": "markdown",
   "metadata": {},
   "source": [
    "## Getting the data \n",
    "For this lab we are using the automobile dataset from [UC Irving's Machine Learning Repository](https://archive.ics.uci.edu/dataset/10/automobile). This dataset should be available in your GitHub repository as `automobile.csv`.\n",
    "\n",
    "Import `pandas` and use `.read_csv()` to create your dataframe."
   ]
  },
  {
   "cell_type": "code",
   "execution_count": 269,
   "metadata": {},
   "outputs": [],
   "source": [
    "import pandas as pd \n",
    "import numpy as np\n",
    "df = pd.read_csv(\"automobile.csv\")"
   ]
  },
  {
   "cell_type": "markdown",
   "metadata": {},
   "source": [
    "To make sure your dataframe is correct, list the columns of your dataframe."
   ]
  },
  {
   "cell_type": "code",
   "execution_count": 270,
   "metadata": {},
   "outputs": [
    {
     "data": {
      "text/plain": [
       "Index(['symboling', 'normalized-losses', 'make', 'fuel-type', 'aspiration',\n",
       "       'num-of-doors', 'body-style', 'drive-wheels', 'engine-location',\n",
       "       'wheel-base', 'length', 'width', 'height', 'curb-weight', 'engine-type',\n",
       "       'num-of-cylinders', 'engine-size', 'fuel-system', 'bore', 'stroke',\n",
       "       'compression-ratio', 'horsepower', 'peak-rpm', 'city-mpg',\n",
       "       'highway-mpg', 'price'],\n",
       "      dtype='object')"
      ]
     },
     "execution_count": 270,
     "metadata": {},
     "output_type": "execute_result"
    }
   ],
   "source": [
    "df.columns"
   ]
  },
  {
   "cell_type": "markdown",
   "metadata": {},
   "source": [
    "## Data cleaning and wrangling\n",
    "Looking at our dataset, we can see several question marks appeared in the dataframe; those are missing values which may hinder our further analysis.\n",
    "\n",
    "So, how do we identify all those missing values and deal with them?\n",
    "\n",
    "Steps for working with missing data:\n",
    "1. Identify missing data\n",
    "2. Deal with missing data\n",
    "3. Correct data format\n",
    "\n",
    "### Identify and handle missing values\n",
    "#### Identify missing values\n",
    "##### Convert \"?\" to NaN\n",
    "In the car dataset, missing data comes with the question mark \"?\".\n",
    "We replace \"?\" with numpy's NaN (Not a Number), Python's default missing value marker for reasons of computational speed and convenience. Here we use the function: `.replace(A, B, inplace = True)` to replace A by B.\n"
   ]
  },
  {
   "cell_type": "code",
   "execution_count": 271,
   "metadata": {},
   "outputs": [
    {
     "name": "stdout",
     "output_type": "stream",
     "text": [
      "     symboling  normalized-losses         make fuel-type aspiration  \\\n",
      "0            3                NaN  alfa-romero       gas        std   \n",
      "1            1                NaN  alfa-romero       gas        std   \n",
      "2            2              164.0         audi       gas        std   \n",
      "3            2              164.0         audi       gas        std   \n",
      "4            2                NaN         audi       gas        std   \n",
      "..         ...                ...          ...       ...        ...   \n",
      "195         -1               95.0        volvo       gas        std   \n",
      "196         -1               95.0        volvo       gas      turbo   \n",
      "197         -1               95.0        volvo       gas        std   \n",
      "198         -1               95.0        volvo    diesel      turbo   \n",
      "199         -1               95.0        volvo       gas      turbo   \n",
      "\n",
      "    num-of-doors   body-style drive-wheels engine-location  wheel-base  ...  \\\n",
      "0            two  convertible          rwd           front        88.6  ...   \n",
      "1            two    hatchback          rwd           front        94.5  ...   \n",
      "2           four        sedan          fwd           front        99.8  ...   \n",
      "3           four        sedan          4wd           front        99.4  ...   \n",
      "4            two        sedan          fwd           front        99.8  ...   \n",
      "..           ...          ...          ...             ...         ...  ...   \n",
      "195         four        sedan          rwd           front       109.1  ...   \n",
      "196         four        sedan          rwd           front       109.1  ...   \n",
      "197         four        sedan          rwd           front       109.1  ...   \n",
      "198         four        sedan          rwd           front       109.1  ...   \n",
      "199         four        sedan          rwd           front       109.1  ...   \n",
      "\n",
      "     engine-size  fuel-system  bore  stroke compression-ratio horsepower  \\\n",
      "0            130         mpfi  3.47    2.68               9.0      111.0   \n",
      "1            152         mpfi  2.68    3.47               9.0      154.0   \n",
      "2            109         mpfi  3.19    3.40              10.0      102.0   \n",
      "3            136         mpfi  3.19    3.40               8.0      115.0   \n",
      "4            136         mpfi  3.19    3.40               8.5      110.0   \n",
      "..           ...          ...   ...     ...               ...        ...   \n",
      "195          141         mpfi  3.78    3.15               9.5      114.0   \n",
      "196          141         mpfi  3.78    3.15               8.7      160.0   \n",
      "197          173         mpfi  3.58    2.87               8.8      134.0   \n",
      "198          145          idi  3.01    3.40              23.0      106.0   \n",
      "199          141         mpfi  3.78    3.15               9.5      114.0   \n",
      "\n",
      "     peak-rpm city-mpg  highway-mpg  price  \n",
      "0      5000.0       21           27  16500  \n",
      "1      5000.0       19           26  16500  \n",
      "2      5500.0       24           30  13950  \n",
      "3      5500.0       18           22  17450  \n",
      "4      5500.0       19           25  15250  \n",
      "..        ...      ...          ...    ...  \n",
      "195    5400.0       23           28  16845  \n",
      "196    5300.0       19           25  19045  \n",
      "197    5500.0       18           23  21485  \n",
      "198    4800.0       26           27  22470  \n",
      "199    5400.0       19           25  22625  \n",
      "\n",
      "[200 rows x 26 columns]\n"
     ]
    }
   ],
   "source": [
    "df.replace(\"?\", np.nan, inplace=True)\n",
    "\n",
    "print(df)"
   ]
  },
  {
   "cell_type": "markdown",
   "metadata": {},
   "source": [
    "##### Evaluating for missing data\n",
    "\n",
    "The missing values are converted by default. We use the following functions to identify these missing values. There are two methods to detect missing data:\n",
    "- `.isnull()`\n",
    "- `.notnull()`\n",
    "\n",
    "The output is a boolean value indicating whether the value that is passed into the argument is in fact missing data.\n",
    "\"True\" means the value is a missing value while \"False\" means the value is not a missing value."
   ]
  },
  {
   "cell_type": "code",
   "execution_count": 272,
   "metadata": {},
   "outputs": [
    {
     "data": {
      "text/html": [
       "<div>\n",
       "<style scoped>\n",
       "    .dataframe tbody tr th:only-of-type {\n",
       "        vertical-align: middle;\n",
       "    }\n",
       "\n",
       "    .dataframe tbody tr th {\n",
       "        vertical-align: top;\n",
       "    }\n",
       "\n",
       "    .dataframe thead th {\n",
       "        text-align: right;\n",
       "    }\n",
       "</style>\n",
       "<table border=\"1\" class=\"dataframe\">\n",
       "  <thead>\n",
       "    <tr style=\"text-align: right;\">\n",
       "      <th></th>\n",
       "      <th>symboling</th>\n",
       "      <th>normalized-losses</th>\n",
       "      <th>make</th>\n",
       "      <th>fuel-type</th>\n",
       "      <th>aspiration</th>\n",
       "      <th>num-of-doors</th>\n",
       "      <th>body-style</th>\n",
       "      <th>drive-wheels</th>\n",
       "      <th>engine-location</th>\n",
       "      <th>wheel-base</th>\n",
       "      <th>...</th>\n",
       "      <th>engine-size</th>\n",
       "      <th>fuel-system</th>\n",
       "      <th>bore</th>\n",
       "      <th>stroke</th>\n",
       "      <th>compression-ratio</th>\n",
       "      <th>horsepower</th>\n",
       "      <th>peak-rpm</th>\n",
       "      <th>city-mpg</th>\n",
       "      <th>highway-mpg</th>\n",
       "      <th>price</th>\n",
       "    </tr>\n",
       "  </thead>\n",
       "  <tbody>\n",
       "    <tr>\n",
       "      <th>0</th>\n",
       "      <td>False</td>\n",
       "      <td>True</td>\n",
       "      <td>False</td>\n",
       "      <td>False</td>\n",
       "      <td>False</td>\n",
       "      <td>False</td>\n",
       "      <td>False</td>\n",
       "      <td>False</td>\n",
       "      <td>False</td>\n",
       "      <td>False</td>\n",
       "      <td>...</td>\n",
       "      <td>False</td>\n",
       "      <td>False</td>\n",
       "      <td>False</td>\n",
       "      <td>False</td>\n",
       "      <td>False</td>\n",
       "      <td>False</td>\n",
       "      <td>False</td>\n",
       "      <td>False</td>\n",
       "      <td>False</td>\n",
       "      <td>False</td>\n",
       "    </tr>\n",
       "    <tr>\n",
       "      <th>1</th>\n",
       "      <td>False</td>\n",
       "      <td>True</td>\n",
       "      <td>False</td>\n",
       "      <td>False</td>\n",
       "      <td>False</td>\n",
       "      <td>False</td>\n",
       "      <td>False</td>\n",
       "      <td>False</td>\n",
       "      <td>False</td>\n",
       "      <td>False</td>\n",
       "      <td>...</td>\n",
       "      <td>False</td>\n",
       "      <td>False</td>\n",
       "      <td>False</td>\n",
       "      <td>False</td>\n",
       "      <td>False</td>\n",
       "      <td>False</td>\n",
       "      <td>False</td>\n",
       "      <td>False</td>\n",
       "      <td>False</td>\n",
       "      <td>False</td>\n",
       "    </tr>\n",
       "    <tr>\n",
       "      <th>2</th>\n",
       "      <td>False</td>\n",
       "      <td>False</td>\n",
       "      <td>False</td>\n",
       "      <td>False</td>\n",
       "      <td>False</td>\n",
       "      <td>False</td>\n",
       "      <td>False</td>\n",
       "      <td>False</td>\n",
       "      <td>False</td>\n",
       "      <td>False</td>\n",
       "      <td>...</td>\n",
       "      <td>False</td>\n",
       "      <td>False</td>\n",
       "      <td>False</td>\n",
       "      <td>False</td>\n",
       "      <td>False</td>\n",
       "      <td>False</td>\n",
       "      <td>False</td>\n",
       "      <td>False</td>\n",
       "      <td>False</td>\n",
       "      <td>False</td>\n",
       "    </tr>\n",
       "    <tr>\n",
       "      <th>3</th>\n",
       "      <td>False</td>\n",
       "      <td>False</td>\n",
       "      <td>False</td>\n",
       "      <td>False</td>\n",
       "      <td>False</td>\n",
       "      <td>False</td>\n",
       "      <td>False</td>\n",
       "      <td>False</td>\n",
       "      <td>False</td>\n",
       "      <td>False</td>\n",
       "      <td>...</td>\n",
       "      <td>False</td>\n",
       "      <td>False</td>\n",
       "      <td>False</td>\n",
       "      <td>False</td>\n",
       "      <td>False</td>\n",
       "      <td>False</td>\n",
       "      <td>False</td>\n",
       "      <td>False</td>\n",
       "      <td>False</td>\n",
       "      <td>False</td>\n",
       "    </tr>\n",
       "    <tr>\n",
       "      <th>4</th>\n",
       "      <td>False</td>\n",
       "      <td>True</td>\n",
       "      <td>False</td>\n",
       "      <td>False</td>\n",
       "      <td>False</td>\n",
       "      <td>False</td>\n",
       "      <td>False</td>\n",
       "      <td>False</td>\n",
       "      <td>False</td>\n",
       "      <td>False</td>\n",
       "      <td>...</td>\n",
       "      <td>False</td>\n",
       "      <td>False</td>\n",
       "      <td>False</td>\n",
       "      <td>False</td>\n",
       "      <td>False</td>\n",
       "      <td>False</td>\n",
       "      <td>False</td>\n",
       "      <td>False</td>\n",
       "      <td>False</td>\n",
       "      <td>False</td>\n",
       "    </tr>\n",
       "    <tr>\n",
       "      <th>...</th>\n",
       "      <td>...</td>\n",
       "      <td>...</td>\n",
       "      <td>...</td>\n",
       "      <td>...</td>\n",
       "      <td>...</td>\n",
       "      <td>...</td>\n",
       "      <td>...</td>\n",
       "      <td>...</td>\n",
       "      <td>...</td>\n",
       "      <td>...</td>\n",
       "      <td>...</td>\n",
       "      <td>...</td>\n",
       "      <td>...</td>\n",
       "      <td>...</td>\n",
       "      <td>...</td>\n",
       "      <td>...</td>\n",
       "      <td>...</td>\n",
       "      <td>...</td>\n",
       "      <td>...</td>\n",
       "      <td>...</td>\n",
       "      <td>...</td>\n",
       "    </tr>\n",
       "    <tr>\n",
       "      <th>195</th>\n",
       "      <td>False</td>\n",
       "      <td>False</td>\n",
       "      <td>False</td>\n",
       "      <td>False</td>\n",
       "      <td>False</td>\n",
       "      <td>False</td>\n",
       "      <td>False</td>\n",
       "      <td>False</td>\n",
       "      <td>False</td>\n",
       "      <td>False</td>\n",
       "      <td>...</td>\n",
       "      <td>False</td>\n",
       "      <td>False</td>\n",
       "      <td>False</td>\n",
       "      <td>False</td>\n",
       "      <td>False</td>\n",
       "      <td>False</td>\n",
       "      <td>False</td>\n",
       "      <td>False</td>\n",
       "      <td>False</td>\n",
       "      <td>False</td>\n",
       "    </tr>\n",
       "    <tr>\n",
       "      <th>196</th>\n",
       "      <td>False</td>\n",
       "      <td>False</td>\n",
       "      <td>False</td>\n",
       "      <td>False</td>\n",
       "      <td>False</td>\n",
       "      <td>False</td>\n",
       "      <td>False</td>\n",
       "      <td>False</td>\n",
       "      <td>False</td>\n",
       "      <td>False</td>\n",
       "      <td>...</td>\n",
       "      <td>False</td>\n",
       "      <td>False</td>\n",
       "      <td>False</td>\n",
       "      <td>False</td>\n",
       "      <td>False</td>\n",
       "      <td>False</td>\n",
       "      <td>False</td>\n",
       "      <td>False</td>\n",
       "      <td>False</td>\n",
       "      <td>False</td>\n",
       "    </tr>\n",
       "    <tr>\n",
       "      <th>197</th>\n",
       "      <td>False</td>\n",
       "      <td>False</td>\n",
       "      <td>False</td>\n",
       "      <td>False</td>\n",
       "      <td>False</td>\n",
       "      <td>False</td>\n",
       "      <td>False</td>\n",
       "      <td>False</td>\n",
       "      <td>False</td>\n",
       "      <td>False</td>\n",
       "      <td>...</td>\n",
       "      <td>False</td>\n",
       "      <td>False</td>\n",
       "      <td>False</td>\n",
       "      <td>False</td>\n",
       "      <td>False</td>\n",
       "      <td>False</td>\n",
       "      <td>False</td>\n",
       "      <td>False</td>\n",
       "      <td>False</td>\n",
       "      <td>False</td>\n",
       "    </tr>\n",
       "    <tr>\n",
       "      <th>198</th>\n",
       "      <td>False</td>\n",
       "      <td>False</td>\n",
       "      <td>False</td>\n",
       "      <td>False</td>\n",
       "      <td>False</td>\n",
       "      <td>False</td>\n",
       "      <td>False</td>\n",
       "      <td>False</td>\n",
       "      <td>False</td>\n",
       "      <td>False</td>\n",
       "      <td>...</td>\n",
       "      <td>False</td>\n",
       "      <td>False</td>\n",
       "      <td>False</td>\n",
       "      <td>False</td>\n",
       "      <td>False</td>\n",
       "      <td>False</td>\n",
       "      <td>False</td>\n",
       "      <td>False</td>\n",
       "      <td>False</td>\n",
       "      <td>False</td>\n",
       "    </tr>\n",
       "    <tr>\n",
       "      <th>199</th>\n",
       "      <td>False</td>\n",
       "      <td>False</td>\n",
       "      <td>False</td>\n",
       "      <td>False</td>\n",
       "      <td>False</td>\n",
       "      <td>False</td>\n",
       "      <td>False</td>\n",
       "      <td>False</td>\n",
       "      <td>False</td>\n",
       "      <td>False</td>\n",
       "      <td>...</td>\n",
       "      <td>False</td>\n",
       "      <td>False</td>\n",
       "      <td>False</td>\n",
       "      <td>False</td>\n",
       "      <td>False</td>\n",
       "      <td>False</td>\n",
       "      <td>False</td>\n",
       "      <td>False</td>\n",
       "      <td>False</td>\n",
       "      <td>False</td>\n",
       "    </tr>\n",
       "  </tbody>\n",
       "</table>\n",
       "<p>200 rows × 26 columns</p>\n",
       "</div>"
      ],
      "text/plain": [
       "     symboling  normalized-losses   make  fuel-type  aspiration  num-of-doors  \\\n",
       "0        False               True  False      False       False         False   \n",
       "1        False               True  False      False       False         False   \n",
       "2        False              False  False      False       False         False   \n",
       "3        False              False  False      False       False         False   \n",
       "4        False               True  False      False       False         False   \n",
       "..         ...                ...    ...        ...         ...           ...   \n",
       "195      False              False  False      False       False         False   \n",
       "196      False              False  False      False       False         False   \n",
       "197      False              False  False      False       False         False   \n",
       "198      False              False  False      False       False         False   \n",
       "199      False              False  False      False       False         False   \n",
       "\n",
       "     body-style  drive-wheels  engine-location  wheel-base  ...  engine-size  \\\n",
       "0         False         False            False       False  ...        False   \n",
       "1         False         False            False       False  ...        False   \n",
       "2         False         False            False       False  ...        False   \n",
       "3         False         False            False       False  ...        False   \n",
       "4         False         False            False       False  ...        False   \n",
       "..          ...           ...              ...         ...  ...          ...   \n",
       "195       False         False            False       False  ...        False   \n",
       "196       False         False            False       False  ...        False   \n",
       "197       False         False            False       False  ...        False   \n",
       "198       False         False            False       False  ...        False   \n",
       "199       False         False            False       False  ...        False   \n",
       "\n",
       "     fuel-system   bore  stroke  compression-ratio  horsepower  peak-rpm  \\\n",
       "0          False  False   False              False       False     False   \n",
       "1          False  False   False              False       False     False   \n",
       "2          False  False   False              False       False     False   \n",
       "3          False  False   False              False       False     False   \n",
       "4          False  False   False              False       False     False   \n",
       "..           ...    ...     ...                ...         ...       ...   \n",
       "195        False  False   False              False       False     False   \n",
       "196        False  False   False              False       False     False   \n",
       "197        False  False   False              False       False     False   \n",
       "198        False  False   False              False       False     False   \n",
       "199        False  False   False              False       False     False   \n",
       "\n",
       "     city-mpg  highway-mpg  price  \n",
       "0       False        False  False  \n",
       "1       False        False  False  \n",
       "2       False        False  False  \n",
       "3       False        False  False  \n",
       "4       False        False  False  \n",
       "..        ...          ...    ...  \n",
       "195     False        False  False  \n",
       "196     False        False  False  \n",
       "197     False        False  False  \n",
       "198     False        False  False  \n",
       "199     False        False  False  \n",
       "\n",
       "[200 rows x 26 columns]"
      ]
     },
     "execution_count": 272,
     "metadata": {},
     "output_type": "execute_result"
    }
   ],
   "source": [
    "df.isnull()"
   ]
  },
  {
   "cell_type": "markdown",
   "metadata": {},
   "source": [
    "##### Count missing values in each column\n",
    "Using a for loop in Python, we can quickly figure out the number of missing values in each column. As mentioned above, \"True\" represents a missing value and \"False\" means the value is present in the dataset.  In the body of the for loop the method `.value_counts()` counts the number of \"True\" values. \n"
   ]
  },
  {
   "cell_type": "code",
   "execution_count": 273,
   "metadata": {},
   "outputs": [
    {
     "name": "stdout",
     "output_type": "stream",
     "text": [
      "symboling\n",
      "False    200\n",
      "Name: count, dtype: int64\n",
      "normalized-losses\n",
      "False    164\n",
      "True      36\n",
      "Name: count, dtype: int64\n",
      "make\n",
      "False    200\n",
      "Name: count, dtype: int64\n",
      "fuel-type\n",
      "False    200\n",
      "Name: count, dtype: int64\n",
      "aspiration\n",
      "False    200\n",
      "Name: count, dtype: int64\n",
      "num-of-doors\n",
      "False    198\n",
      "True       2\n",
      "Name: count, dtype: int64\n",
      "body-style\n",
      "False    200\n",
      "Name: count, dtype: int64\n",
      "drive-wheels\n",
      "False    200\n",
      "Name: count, dtype: int64\n",
      "engine-location\n",
      "False    200\n",
      "Name: count, dtype: int64\n",
      "wheel-base\n",
      "False    200\n",
      "Name: count, dtype: int64\n",
      "length\n",
      "False    200\n",
      "Name: count, dtype: int64\n",
      "width\n",
      "False    200\n",
      "Name: count, dtype: int64\n",
      "height\n",
      "False    200\n",
      "Name: count, dtype: int64\n",
      "curb-weight\n",
      "False    200\n",
      "Name: count, dtype: int64\n",
      "engine-type\n",
      "False    200\n",
      "Name: count, dtype: int64\n",
      "num-of-cylinders\n",
      "False    200\n",
      "Name: count, dtype: int64\n",
      "engine-size\n",
      "False    200\n",
      "Name: count, dtype: int64\n",
      "fuel-system\n",
      "False    200\n",
      "Name: count, dtype: int64\n",
      "bore\n",
      "False    196\n",
      "True       4\n",
      "Name: count, dtype: int64\n",
      "stroke\n",
      "False    196\n",
      "True       4\n",
      "Name: count, dtype: int64\n",
      "compression-ratio\n",
      "False    200\n",
      "Name: count, dtype: int64\n",
      "horsepower\n",
      "False    198\n",
      "True       2\n",
      "Name: count, dtype: int64\n",
      "peak-rpm\n",
      "False    198\n",
      "True       2\n",
      "Name: count, dtype: int64\n",
      "city-mpg\n",
      "False    200\n",
      "Name: count, dtype: int64\n",
      "highway-mpg\n",
      "False    200\n",
      "Name: count, dtype: int64\n",
      "price\n",
      "False    200\n",
      "Name: count, dtype: int64\n"
     ]
    }
   ],
   "source": [
    "for column in df.columns:\n",
    "        print(df[column].isna().value_counts())\n",
    "\n",
    "    "
   ]
  },
  {
   "cell_type": "markdown",
   "metadata": {},
   "source": [
    "Based on the summary above, each column has 200 rows of data and six of the columns containing missing data:\n",
    "- `normalized-losses`: \n",
    "- `num-of-doors`: \n",
    "- `bore`: \n",
    "- `stroke`: \n",
    "- `horsepower`:\n",
    "- `peak-rpm`: \n",
    "\n",
    "#### Deal with missing data\n",
    "How to deal with missing data?\n",
    "\n",
    "1. Drop data\n",
    "    1. Drop the whole row\n",
    "    2. Drop the whole column\n",
    "2. Replace data\n",
    "    1. Replace it by mean\n",
    "    2. Replace it by frequency\n",
    "    3. Replace it based on other functions\n",
    "\n",
    "Whole columns should be dropped only if most entries in the column are empty. In our dataset, none of the columns are empty enough to drop entirely.\n",
    "We have some freedom in choosing which method to replace data; however, some methods may seem more reasonable than others. We will apply each method to many different columns:\n",
    "\n",
    "1. Replace by mean:\n",
    "- `normalized-losses`: 36 missing data\n",
    "- `bore`: 4 missing data \n",
    "- `stroke`: 4 missing data \n",
    "- `horsepower`: 2 missing data \n",
    "- `peak-rpm`: 2 missing data\n",
    "\n",
    "2. Replace by frequency:\n",
    "- `num-of-doors`: 2 missing data - *84% sedans is four doors. Since four doors is most frequent, it is most likely to occur*\n",
    "\n",
    "Calculate the mean value for the \"normalized-losses\" column"
   ]
  },
  {
   "cell_type": "code",
   "execution_count": 274,
   "metadata": {},
   "outputs": [],
   "source": [
    "mean_loss = df[\"normalized-losses\"].mean()\n",
    "\n"
   ]
  },
  {
   "cell_type": "code",
   "execution_count": 275,
   "metadata": {},
   "outputs": [
    {
     "name": "stdout",
     "output_type": "stream",
     "text": [
      "0      122.0\n",
      "1      122.0\n",
      "2      164.0\n",
      "3      164.0\n",
      "4      122.0\n",
      "       ...  \n",
      "195     95.0\n",
      "196     95.0\n",
      "197     95.0\n",
      "198     95.0\n",
      "199     95.0\n",
      "Name: normalized-losses, Length: 200, dtype: float64\n"
     ]
    }
   ],
   "source": [
    "df[\"normalized-losses\"].replace(np.nan, mean_loss, inplace=True)\n",
    "print(df[\"normalized-losses\"])"
   ]
  },
  {
   "cell_type": "markdown",
   "metadata": {},
   "source": [
    "Calculate the mean value for the \"bore\" column. Then, replace \"NaN\" with the mean value in the \"bore\" column."
   ]
  },
  {
   "cell_type": "code",
   "execution_count": 276,
   "metadata": {},
   "outputs": [
    {
     "name": "stdout",
     "output_type": "stream",
     "text": [
      "0      3.47\n",
      "1      2.68\n",
      "2      3.19\n",
      "3      3.19\n",
      "4      3.19\n",
      "       ... \n",
      "195    3.78\n",
      "196    3.78\n",
      "197    3.58\n",
      "198    3.01\n",
      "199    3.78\n",
      "Name: bore, Length: 200, dtype: float64\n"
     ]
    }
   ],
   "source": [
    "mean_bore = df[\"bore\"].mean()\n",
    "df[\"bore\"].replace(np.nan, mean_bore, inplace=True)\n",
    "print(df[\"bore\"])"
   ]
  },
  {
   "cell_type": "markdown",
   "metadata": {},
   "source": [
    "Calculate the mean value for the \"stroke\" column. Replace NaN in \"stroke\" column with the mean value."
   ]
  },
  {
   "cell_type": "code",
   "execution_count": 277,
   "metadata": {},
   "outputs": [
    {
     "name": "stdout",
     "output_type": "stream",
     "text": [
      "0      2.68\n",
      "1      3.47\n",
      "2      3.40\n",
      "3      3.40\n",
      "4      3.40\n",
      "       ... \n",
      "195    3.15\n",
      "196    3.15\n",
      "197    2.87\n",
      "198    3.40\n",
      "199    3.15\n",
      "Name: stroke, Length: 200, dtype: float64\n"
     ]
    }
   ],
   "source": [
    "mean_stroke = df[\"stroke\"].mean()\n",
    "df[\"stroke\"].fillna(mean_stroke, inplace=True)\n",
    "print(df[\"stroke\"])\n"
   ]
  },
  {
   "cell_type": "markdown",
   "metadata": {},
   "source": [
    "Calculate the mean value for the \"horsepower\" column. Replace \"NaN\" with the mean value in the \"horsepower\" column.\n"
   ]
  },
  {
   "cell_type": "code",
   "execution_count": 278,
   "metadata": {},
   "outputs": [
    {
     "name": "stdout",
     "output_type": "stream",
     "text": [
      "0      111.0\n",
      "1      154.0\n",
      "2      102.0\n",
      "3      115.0\n",
      "4      110.0\n",
      "       ...  \n",
      "195    114.0\n",
      "196    160.0\n",
      "197    134.0\n",
      "198    106.0\n",
      "199    114.0\n",
      "Name: horsepower, Length: 200, dtype: float64\n"
     ]
    }
   ],
   "source": [
    "mean_horse = df[\"horsepower\"].mean()\n",
    "df[\"horsepower\"].replace(np.nan, mean_horse, inplace=True)\n",
    "print(df[\"horsepower\"])\n"
   ]
  },
  {
   "cell_type": "markdown",
   "metadata": {},
   "source": [
    "Calculate the mean value for \"peak-rpm\" column. Replace \"NaN\" with the mean value in the \"peak-rpm\" column."
   ]
  },
  {
   "cell_type": "code",
   "execution_count": 279,
   "metadata": {},
   "outputs": [
    {
     "name": "stdout",
     "output_type": "stream",
     "text": [
      "0      5000.0\n",
      "1      5000.0\n",
      "2      5500.0\n",
      "3      5500.0\n",
      "4      5500.0\n",
      "        ...  \n",
      "195    5400.0\n",
      "196    5300.0\n",
      "197    5500.0\n",
      "198    4800.0\n",
      "199    5400.0\n",
      "Name: peak-rpm, Length: 200, dtype: float64\n"
     ]
    }
   ],
   "source": [
    "mean_peak = df[\"peak-rpm\"].mean()\n",
    "df[\"peak-rpm\"].replace(np.nan, mean_loss, inplace=True)\n",
    "print(df[\"peak-rpm\"])"
   ]
  },
  {
   "cell_type": "markdown",
   "metadata": {},
   "source": [
    "For \"num-of-doors\", we want to replae it with the mode common value. To see which values are present in a particular column, we can use the `.value_counts()` function:"
   ]
  },
  {
   "cell_type": "code",
   "execution_count": 280,
   "metadata": {},
   "outputs": [
    {
     "data": {
      "text/plain": [
       "num-of-doors\n",
       "four    113\n",
       "two      85\n",
       "Name: count, dtype: int64"
      ]
     },
     "execution_count": 280,
     "metadata": {},
     "output_type": "execute_result"
    }
   ],
   "source": [
    "df[\"num-of-doors\"].value_counts()"
   ]
  },
  {
   "cell_type": "markdown",
   "metadata": {},
   "source": [
    "We can see that four doors are the most common type. We can also use the `.idxmax()` function with `.value_counts()` to calculate the most common type automatically:\n"
   ]
  },
  {
   "cell_type": "code",
   "execution_count": 281,
   "metadata": {},
   "outputs": [],
   "source": [
    "common_num = df[\"num-of-doors\"].value_counts().idxmax()"
   ]
  },
  {
   "cell_type": "markdown",
   "metadata": {},
   "source": [
    "Now replace the null values in \"num-of-doors\" with the most common value.  "
   ]
  },
  {
   "cell_type": "code",
   "execution_count": 282,
   "metadata": {},
   "outputs": [
    {
     "name": "stdout",
     "output_type": "stream",
     "text": [
      "0       two\n",
      "1       two\n",
      "2      four\n",
      "3      four\n",
      "4       two\n",
      "       ... \n",
      "195    four\n",
      "196    four\n",
      "197    four\n",
      "198    four\n",
      "199    four\n",
      "Name: num-of-doors, Length: 200, dtype: object\n",
      "0      False\n",
      "1      False\n",
      "2      False\n",
      "3      False\n",
      "4      False\n",
      "       ...  \n",
      "195    False\n",
      "196    False\n",
      "197    False\n",
      "198    False\n",
      "199    False\n",
      "Name: num-of-doors, Length: 200, dtype: bool\n"
     ]
    }
   ],
   "source": [
    "df['num-of-doors'].replace(np.nan, common_num, inplace=True)\n",
    "print(df['num-of-doors'])\n",
    "print(df['num-of-doors'].isnull())"
   ]
  },
  {
   "cell_type": "markdown",
   "metadata": {},
   "source": [
    "**Great!** Now, we have a dataset with no missing values.\n",
    "\n",
    "### Correct data format\n",
    "We are almost there! The last step is checking and making sure that all data is in the correct format (int, float, text or other).\n",
    "In pandas, we use:\n",
    "- `.dtype()` to check the data type\n",
    "- `.astype()` to change the data type\n",
    "\n",
    "Let's list the data types for each column. Verify that the data types make sense with the [documentation](https://archive.ics.uci.edu/dataset/10/automobile). If not, change the data types."
   ]
  },
  {
   "cell_type": "code",
   "execution_count": 283,
   "metadata": {},
   "outputs": [
    {
     "name": "stdout",
     "output_type": "stream",
     "text": [
      "int64\n",
      "symboling\n",
      "float64\n",
      "normalized-losses\n",
      "object\n",
      "make\n",
      "object\n",
      "fuel-type\n",
      "object\n",
      "aspiration\n",
      "object\n",
      "num-of-doors\n",
      "object\n",
      "body-style\n",
      "object\n",
      "drive-wheels\n",
      "object\n",
      "engine-location\n",
      "float64\n",
      "wheel-base\n",
      "float64\n",
      "length\n",
      "float64\n",
      "width\n",
      "float64\n",
      "height\n",
      "float64\n",
      "curb-weight\n",
      "object\n",
      "engine-type\n",
      "object\n",
      "num-of-cylinders\n",
      "float64\n",
      "engine-size\n",
      "object\n",
      "fuel-system\n",
      "float64\n",
      "bore\n",
      "float64\n",
      "stroke\n",
      "float64\n",
      "compression-ratio\n",
      "float64\n",
      "horsepower\n",
      "float64\n",
      "peak-rpm\n",
      "float64\n",
      "city-mpg\n",
      "float64\n",
      "highway-mpg\n",
      "float64\n",
      "price\n"
     ]
    }
   ],
   "source": [
    "df['curb-weight'] = df['curb-weight'].astype(float)\n",
    "df['engine-size'] = df['engine-size'].astype(float)\n",
    "df['city-mpg'] = df['city-mpg'].astype(float)\n",
    "df['highway-mpg'] = df['highway-mpg'].astype(float)\n",
    "df['price'] = df['price'].astype(float)\n",
    "\n",
    "for column in df.columns: \n",
    "    print(df[column].dtype)\n",
    "    print(column)\n",
    "\n"
   ]
  },
  {
   "cell_type": "markdown",
   "metadata": {},
   "source": [
    "<b>Wonderful!</b>\n",
    "\n",
    "Now we have finally obtained the cleaned dataset with no missing values with all data in its proper format.\n"
   ]
  },
  {
   "cell_type": "markdown",
   "metadata": {},
   "source": [
    "### Data Standardization\n",
    "\n",
    "Data is usually collected from different agencies in different formats. (Data standardization is also a term for a particular type of data normalization where we subtract the mean and divide by the standard deviation.)\n",
    "\n",
    "**What is standardization?**\n",
    "Standardization is the process of transforming data into a common format, allowing the researcher to make the meaningful comparison.\n",
    "\n",
    "In our dataset, the fuel consumption columns \"city-mpg\" and \"highway-mpg\" are represented by mpg (miles per gallon) unit. Assume we are developing an application in a country that accepts the fuel consumption with L/100km standard.>We will need to apply data transformation to transform mpg into L/100km. \n",
    "\n",
    "The formula for unit conversion is: L/100km = 235 / mpg.\n",
    "\n",
    "Use pandas to create the column `city-L/100km` and `highway-L/100km`."
   ]
  },
  {
   "cell_type": "code",
   "execution_count": 284,
   "metadata": {},
   "outputs": [
    {
     "name": "stdout",
     "output_type": "stream",
     "text": [
      "0      11.190476\n",
      "1      12.368421\n",
      "2       9.791667\n",
      "3      13.055556\n",
      "4      12.368421\n",
      "         ...    \n",
      "195    10.217391\n",
      "196    12.368421\n",
      "197    13.055556\n",
      "198     9.038462\n",
      "199    12.368421\n",
      "Name: city-L/100km, Length: 200, dtype: float64 0       8.703704\n",
      "1       9.038462\n",
      "2       7.833333\n",
      "3      10.681818\n",
      "4       9.400000\n",
      "         ...    \n",
      "195     8.392857\n",
      "196     9.400000\n",
      "197    10.217391\n",
      "198     8.703704\n",
      "199     9.400000\n",
      "Name: highway-L/100km, Length: 200, dtype: float64\n"
     ]
    }
   ],
   "source": [
    "df['city-L/100km'] = 235 / df['city-mpg']\n",
    "df['highway-L/100km'] = 235 / df['highway-mpg']\n",
    "print(df['city-L/100km'], df['highway-L/100km'])"
   ]
  },
  {
   "cell_type": "markdown",
   "metadata": {},
   "source": [
    "### Data Normalization\n",
    "\n",
    "**Why normalization?**\n",
    "Normalization is the process of transforming values of several variables into a similar range. Typical normalizations include scaling the variable so the variable average is 0 and the variance is 1, or scaling the variable so the variable values range from 0 to 1.\n",
    "\n",
    "To demonstrate normalization, let's say we want to scale the columns \"length\", \"width\" and \"height\".\n",
    "- Target:normalize those variables so their value ranges from 0 to 1\n",
    "- Approach: replace original value by (original value)/(maximum value)\n",
    "\n",
    "Normalize the columns \"length\", \"width\", and \"height\". Use the `.max()` function to get the column max. Print the first 10 values of \"length\", \"width\", and \"height\"."
   ]
  },
  {
   "cell_type": "code",
   "execution_count": 285,
   "metadata": {},
   "outputs": [
    {
     "name": "stdout",
     "output_type": "stream",
     "text": [
      "59.8 72.0 72.0\n",
      "0    0.811148\n",
      "1    0.822681\n",
      "2    0.848630\n",
      "3    0.848630\n",
      "4    0.851994\n",
      "5    0.925997\n",
      "6    0.925997\n",
      "7    0.925997\n",
      "8    0.849592\n",
      "9    0.849592\n",
      "Name: length, dtype: float64\n",
      "0    0.816054\n",
      "1    0.876254\n",
      "2    0.908027\n",
      "3    0.908027\n",
      "4    0.887960\n",
      "5    0.931438\n",
      "6    0.931438\n",
      "7    0.934783\n",
      "8    0.908027\n",
      "9    0.908027\n",
      "Name: height, dtype: float64\n",
      "0    0.890278\n",
      "1    0.909722\n",
      "2    0.919444\n",
      "3    0.922222\n",
      "4    0.920833\n",
      "5    0.991667\n",
      "6    0.991667\n",
      "7    0.991667\n",
      "8    0.900000\n",
      "9    0.900000\n",
      "Name: width, dtype: float64\n"
     ]
    }
   ],
   "source": [
    "#finding maxium of l/w/h\n",
    "max_height = df['height'].max()\n",
    "max_length = df['length'].max()\n",
    "max_width = df['width'].max()\n",
    "\n",
    "print(max_height, max_width, max_width)\n",
    "\n",
    "df['height'] = df['height'] / max_height\n",
    "df['length'] = df['length'] / max_length\n",
    "df['width'] = df['width'] / max_width\n",
    "\n",
    "print(df['length'].head(10))\n",
    "print(df['height'].head(10))\n",
    "print(df['width'].head(10))\n"
   ]
  },
  {
   "cell_type": "markdown",
   "metadata": {},
   "source": [
    "Here we can see we've normalized \"length\", \"width\" and \"height\" in the range of \\[0,1].\n"
   ]
  },
  {
   "cell_type": "markdown",
   "metadata": {},
   "source": [
    "### Binning\n",
    "\n",
    "**Why binning?**\n",
    "Binning is a process of transforming continuous numerical variables into discrete categorical 'bins' for grouped analysis.\n",
    "\n",
    "In our dataset, \"horsepower\" is a real valued variable ranging from 48 to 288 and it has 59 unique values. What if we only care about the price difference between cars with high horsepower, medium horsepower, and little horsepower (3 types)? Can we rearrange them into three ‘bins' to simplify analysis? \n",
    "\n",
    "We will use the pandas method `cut()` to segment the 'horsepower' column into 3 bins.\n",
    "\n",
    "#### Binning data with pandas \n",
    "\n",
    "Since we want to create bins based on numerical values of \"horsepower\", we need to make sure that the coulmn is of type integer. If it is not, fix it now."
   ]
  },
  {
   "cell_type": "code",
   "execution_count": 286,
   "metadata": {},
   "outputs": [],
   "source": [
    "df['horsepower'] = df['horsepower'].astype(int)"
   ]
  },
  {
   "cell_type": "markdown",
   "metadata": {},
   "source": [
    "Let's plot the histogram of \"horsepower\" to see what the distribution of the values look like.\n",
    "\n",
    "Import `matplotlib.pyplot` and use `hist(df['horsepower'])` to create a histogram. Make sure your graph has a title and  x and y axis labels."
   ]
  },
  {
   "cell_type": "code",
   "execution_count": 287,
   "metadata": {},
   "outputs": [
    {
     "data": {
      "image/png": "[encoded data removed]",
      "text/plain": [
       "<Figure size 640x480 with 1 Axes>"
      ]
     },
     "metadata": {},
     "output_type": "display_data"
    }
   ],
   "source": [
    "import matplotlib.pyplot as plt \n",
    "plt.hist(df['horsepower'])\n",
    "plt.title(\"Dispersion of Cars to Horsepower\")\n",
    "plt.xlabel(\"Horsepower\")\n",
    "plt.ylabel('Number of Cars')\n",
    "plt.show()"
   ]
  },
  {
   "cell_type": "markdown",
   "metadata": {},
   "source": [
    "We would like 3 bins of equal size, so we use numpy's `linspace(start_value, end_value, numbers_generated)` function.\n",
    "- Since we want to include the minimum value of horsepower, we want to set `start_value = min(df[\"horsepower\"])`.\n",
    "- Since we want to include the maximum value of horsepower, we want to set `end_value = max(df[\"horsepower\"])`.\n",
    "- Since we are building 3 bins of equal length, there should be 4 dividers, so `numbers_generated = 4`.\n",
    "\n",
    "Create an array called `binns` using `linspace()`. These values will determine when one bin ends and another begins when applied to \"horsepower\"."
   ]
  },
  {
   "cell_type": "code",
   "execution_count": 288,
   "metadata": {},
   "outputs": [],
   "source": [
    "from numpy import linspace\n",
    "start_value = min(df['horsepower'])\n",
    "end_value = max(df['horsepower'])\n",
    "numbers_generated = 4 \n",
    "binns = linspace(start_value, end_value, numbers_generated)"
   ]
  },
  {
   "cell_type": "markdown",
   "metadata": {},
   "source": [
    "Create a list of group names that we will set for each label. The three groups we want are low, meidum, and high."
   ]
  },
  {
   "cell_type": "code",
   "execution_count": 289,
   "metadata": {},
   "outputs": [],
   "source": [
    "Group_names = ['Low', 'Medium', 'High']"
   ]
  },
  {
   "cell_type": "markdown",
   "metadata": {},
   "source": [
    "Create a new column called \"horsepower-binned\" using the `cut()` function with `pd.cut(df['horsepower'], bins, labels=group_names, include_lowest=True)`. Print out the first 20 rows of \"horsepower\" and \"horsepower-binned\" to check your work. "
   ]
  },
  {
   "cell_type": "code",
   "execution_count": 290,
   "metadata": {},
   "outputs": [
    {
     "name": "stdout",
     "output_type": "stream",
     "text": [
      "0    111\n",
      "1    154\n",
      "2    102\n",
      "3    115\n",
      "4    110\n",
      "5    110\n",
      "6    110\n",
      "7    140\n",
      "8    101\n",
      "9    101\n",
      "Name: horsepower, dtype: int64\n",
      "0       Low\n",
      "1    Medium\n",
      "2       Low\n",
      "3       Low\n",
      "4       Low\n",
      "5       Low\n",
      "6       Low\n",
      "7    Medium\n",
      "8       Low\n",
      "9       Low\n",
      "Name: horsepower-binned, dtype: category\n",
      "Categories (3, object): ['Low' < 'Medium' < 'High']\n"
     ]
    }
   ],
   "source": [
    "df['horsepower-binned'] = pd.cut(df['horsepower'], binns, labels=Group_names, include_lowest=True)\n",
    "\n",
    "print(df['horsepower'].head(10))\n",
    "print(df['horsepower-binned'].head(10))"
   ]
  },
  {
   "cell_type": "markdown",
   "metadata": {},
   "source": [
    "Check the number of vehicles in each bin using `value_counts()`."
   ]
  },
  {
   "cell_type": "code",
   "execution_count": 291,
   "metadata": {},
   "outputs": [
    {
     "data": {
      "text/plain": [
       "horsepower-binned\n",
       "Low       152\n",
       "Medium     43\n",
       "High        5\n",
       "Name: count, dtype: int64"
      ]
     },
     "execution_count": 291,
     "metadata": {},
     "output_type": "execute_result"
    }
   ],
   "source": [
    "df['horsepower-binned'].value_counts()"
   ]
  },
  {
   "cell_type": "markdown",
   "metadata": {},
   "source": [
    "Now, use let's make a histogram of our horsepower bins. The easiest way to do this is to use the `bar()` function like `bar(group_names, df[\"horsepower-binned\"].value_counts())`. Make sure your graph has axis labels and a title."
   ]
  },
  {
   "cell_type": "code",
   "execution_count": 292,
   "metadata": {},
   "outputs": [
    {
     "data": {
      "text/plain": [
       "Text(0, 0.5, 'Number of Cars')"
      ]
     },
     "execution_count": 292,
     "metadata": {},
     "output_type": "execute_result"
    },
    {
     "data": {
      "image/png": "[encoded data removed]",
      "text/plain": [
       "<Figure size 640x480 with 1 Axes>"
      ]
     },
     "metadata": {},
     "output_type": "display_data"
    }
   ],
   "source": [
    "plt.bar(Group_names, df['horsepower-binned'].value_counts())\n",
    "plt.title('Dispersion of Cars in Levels of Horsepower')\n",
    "plt.xlabel(\"Horsepower\")\n",
    "plt.ylabel('Number of Cars')\n"
   ]
  },
  {
   "cell_type": "markdown",
   "metadata": {},
   "source": [
    "Look at the graph above carefully. You will find that the last column provides the bins for \"horsepower\" based on 3 categories (\"Low\", \"Medium\" and \"High\"). We successfully narrowed down the intervals from 59 to 3! Instead of making an entirely new column, you could have also made a quick visualization of these same bins by changing parameters in the `.hist()` method like `plt.hist(df[\"horsepower\"], bins=3)`. "
   ]
  },
  {
   "cell_type": "code",
   "execution_count": 293,
   "metadata": {},
   "outputs": [
    {
     "data": {
      "text/plain": [
       "(array([152.,  43.,   5.]),\n",
       " array([ 48.        , 119.33333333, 190.66666667, 262.        ]),\n",
       " <BarContainer object of 3 artists>)"
      ]
     },
     "execution_count": 293,
     "metadata": {},
     "output_type": "execute_result"
    },
    {
     "data": {
      "image/png": "[encoded data removed]",
      "text/plain": [
       "<Figure size 640x480 with 1 Axes>"
      ]
     },
     "metadata": {},
     "output_type": "display_data"
    }
   ],
   "source": [
    "plt.hist(df['horsepower'], bins=3)"
   ]
  },
  {
   "cell_type": "markdown",
   "metadata": {},
   "source": [
    "### Indicator variables (or dummy variables)\n",
    "**What is an indicator variable?**\n",
    "An indicator variable (or dummy variable) is a numerical variable used to label categories. They are called 'dummies' because the numbers themselves don't have inherent meaning. \n",
    "\n",
    "**Why we use indicator variables?**\n",
    "We use indicator variables so we can use categorical variables for regression analysis in the later modules.\n",
    "\n",
    "We see the column \"fuel-type\" has two unique values: \"gas\" or \"diesel\". Regression doesn't understand words, only numbers. To use this attribute in regression analysis, we convert \"fuel-type\" to indicator variables.\n",
    "\n",
    "Use pandas' method `get_dummies(column_name)` to assign numerical values to different categories of fuel type and assign it to a variable.\n"
   ]
  },
  {
   "cell_type": "code",
   "execution_count": 294,
   "metadata": {},
   "outputs": [
    {
     "name": "stdout",
     "output_type": "stream",
     "text": [
      "     diesel  gas\n",
      "0         0    1\n",
      "1         0    1\n",
      "2         0    1\n",
      "3         0    1\n",
      "4         0    1\n",
      "..      ...  ...\n",
      "195       0    1\n",
      "196       0    1\n",
      "197       0    1\n",
      "198       1    0\n",
      "199       0    1\n",
      "\n",
      "[200 rows x 2 columns]\n"
     ]
    }
   ],
   "source": [
    "fuel_dummies = pd.get_dummies(df['fuel-type']).astype(int)\n",
    "print(fuel_dummies)"
   ]
  },
  {
   "cell_type": "markdown",
   "metadata": {},
   "source": [
    "Change the column names to \"fuel-type-gas\" and \"fuel-type-diesel\" for clarity.\n"
   ]
  },
  {
   "cell_type": "code",
   "execution_count": 295,
   "metadata": {},
   "outputs": [
    {
     "name": "stdout",
     "output_type": "stream",
     "text": [
      "Index(['symboling', 'normalized-losses', 'make', 'fuel-type', 'aspiration',\n",
      "       'num-of-doors', 'body-style', 'drive-wheels', 'engine-location',\n",
      "       'wheel-base', 'length', 'width', 'height', 'curb-weight', 'engine-type',\n",
      "       'num-of-cylinders', 'engine-size', 'fuel-system', 'bore', 'stroke',\n",
      "       'compression-ratio', 'horsepower', 'peak-rpm', 'city-mpg',\n",
      "       'highway-mpg', 'price', 'city-L/100km', 'highway-L/100km',\n",
      "       'horsepower-binned'],\n",
      "      dtype='object')\n"
     ]
    }
   ],
   "source": [
    "fuel_dummies['fuel-type-gas'] = fuel_dummies['gas']\n",
    "fuel_dummies['fuel-type-diesel'] = fuel_dummies['diesel']\n",
    "print(df.columns)"
   ]
  },
  {
   "cell_type": "markdown",
   "metadata": {},
   "source": [
    "Add the \"dummy_variable\" dataframe to your original dataframe `df` with pandas' `concat()` function. Then remove \"fuel-type\" from your dataframe.\n",
    "```\n",
    "df = pd.concat([df, dummy_variable_1], axis=1)\n",
    "df.drop('fuel-type', axis = 1, inplace = True)\n",
    "```"
   ]
  },
  {
   "cell_type": "code",
   "execution_count": 296,
   "metadata": {},
   "outputs": [
    {
     "name": "stdout",
     "output_type": "stream",
     "text": [
      "Index(['symboling', 'normalized-losses', 'make', 'aspiration', 'num-of-doors',\n",
      "       'body-style', 'drive-wheels', 'engine-location', 'wheel-base', 'length',\n",
      "       'width', 'height', 'curb-weight', 'engine-type', 'num-of-cylinders',\n",
      "       'engine-size', 'fuel-system', 'bore', 'stroke', 'compression-ratio',\n",
      "       'horsepower', 'peak-rpm', 'city-mpg', 'highway-mpg', 'price',\n",
      "       'city-L/100km', 'highway-L/100km', 'horsepower-binned', 'fuel-type-gas',\n",
      "       'fuel-type-diesel'],\n",
      "      dtype='object')\n"
     ]
    }
   ],
   "source": [
    "df = pd.concat([df, fuel_dummies['fuel-type-gas']], axis=1)\n",
    "df = pd.concat([df, fuel_dummies['fuel-type-diesel']], axis=1)\n",
    "\n",
    "df.drop('fuel-type', axis=1, inplace=True)\n",
    "print(df.columns)"
   ]
  },
  {
   "cell_type": "markdown",
   "metadata": {},
   "source": [
    "The last two columns are now the indicator variable representation of the fuel-type variable. They're all 0s and 1s now.\n",
    "\n",
    "\n",
    "Similar to before, we follow the same steps to create indicator variables for the column \"aspiration\". Then use `concat()` to add your dummy variables back into the dataframe and remove the original column."
   ]
  },
  {
   "cell_type": "code",
   "execution_count": null,
   "metadata": {},
   "outputs": [
    {
     "name": "stdout",
     "output_type": "stream",
     "text": [
      "     std  turbo\n",
      "0      1      0\n",
      "1      1      0\n",
      "2      1      0\n",
      "3      1      0\n",
      "4      1      0\n",
      "..   ...    ...\n",
      "195    1      0\n",
      "196    0      1\n",
      "197    1      0\n",
      "198    0      1\n",
      "199    0      1\n",
      "\n",
      "[200 rows x 2 columns]\n",
      "Index(['symboling', 'normalized-losses', 'make', 'aspiration', 'num-of-doors',\n",
      "       'body-style', 'drive-wheels', 'engine-location', 'wheel-base', 'length',\n",
      "       'width', 'height', 'curb-weight', 'engine-type', 'num-of-cylinders',\n",
      "       'engine-size', 'fuel-system', 'bore', 'stroke', 'compression-ratio',\n",
      "       'horsepower', 'peak-rpm', 'city-mpg', 'highway-mpg', 'price',\n",
      "       'city-L/100km', 'highway-L/100km', 'horsepower-binned', 'fuel-type-gas',\n",
      "       'fuel-type-diesel', 'aspiration-turbo', 'aspiration-std'],\n",
      "      dtype='object')\n"
     ]
    }
   ],
   "source": [
    "#create indicator variables for column aspriation\n",
    "aspiration_dummies = pd.get_dummies(df['aspiration']).astype(int)\n",
    "print(aspiration_dummies)\n",
    "\n",
    "#change the names of the columns on the new date set \"aspiration_dummies\"\n",
    "aspiration_dummies['aspiration-std'] = aspiration_dummies['std']\n",
    "aspiration_dummies['aspiration-turbo'] = aspiration_dummies['turbo']\n",
    "\n",
    "#use concat to add both the turbo and std columns into the og data frame \n",
    "df = pd.concat([df, aspiration_dummies['aspiration-turbo']], axis=1)\n",
    "df = pd.concat([df, aspiration_dummies['aspiration-std']], axis=1)\n",
    "\n",
    "\n"
   ]
  },
  {
   "cell_type": "code",
   "execution_count": 298,
   "metadata": {},
   "outputs": [
    {
     "name": "stdout",
     "output_type": "stream",
     "text": [
      "Index(['symboling', 'normalized-losses', 'make', 'num-of-doors', 'body-style',\n",
      "       'drive-wheels', 'engine-location', 'wheel-base', 'length', 'width',\n",
      "       'height', 'curb-weight', 'engine-type', 'num-of-cylinders',\n",
      "       'engine-size', 'fuel-system', 'bore', 'stroke', 'compression-ratio',\n",
      "       'horsepower', 'peak-rpm', 'city-mpg', 'highway-mpg', 'price',\n",
      "       'city-L/100km', 'highway-L/100km', 'horsepower-binned', 'fuel-type-gas',\n",
      "       'fuel-type-diesel', 'aspiration-turbo', 'aspiration-std'],\n",
      "      dtype='object')\n"
     ]
    }
   ],
   "source": [
    "#now use drop to remove the aspriation column in the og data set bc you already have that information in your new columns \n",
    "df.drop('aspiration', axis=1, inplace=True)\n",
    "\n",
    "#check to make sure that it all actually worked\n",
    "print(df.columns)"
   ]
  },
  {
   "cell_type": "markdown",
   "metadata": {},
   "source": [
    "**Awesome!** Now we are done cleaning our data."
   ]
  },
  {
   "cell_type": "markdown",
   "metadata": {},
   "source": [
    "## Export your file\n",
    "To move to the second part of the lab, we need to save our dataframe in a new file. Use the function `df.to_csv(file_name)` to save your dataframe to a new csv.\n"
   ]
  },
  {
   "cell_type": "code",
   "execution_count": 299,
   "metadata": {},
   "outputs": [],
   "source": [
    "df.to_csv('Automobile_dataset(1)')"
   ]
  }
 ],
 "metadata": {
  "kernelspec": {
   "display_name": "Python 3",
   "language": "python",
   "name": "python3"
  },
  "language_info": {
   "codemirror_mode": {
    "name": "ipython",
    "version": 3
   },
   "file_extension": ".py",
   "mimetype": "text/x-python",
   "name": "python",
   "nbconvert_exporter": "python",
   "pygments_lexer": "ipython3",
   "version": "3.12.3"
  }
 },
 "nbformat": 4,
 "nbformat_minor": 2
}
